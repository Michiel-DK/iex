{
 "cells": [
  {
   "cell_type": "code",
   "execution_count": 2,
   "metadata": {},
   "outputs": [],
   "source": [
    "import matplotlib.pyplot as plt"
   ]
  },
  {
   "cell_type": "code",
   "execution_count": 6,
   "metadata": {},
   "outputs": [],
   "source": [
    "# Read JSON\n",
    "import json\n",
    "json_file_path = '2021-11-19.json'\n",
    "\n",
    "with open(json_file_path, 'r') as j:\n",
    "     contents = json.loads(j.read())"
   ]
  },
  {
   "cell_type": "code",
   "execution_count": null,
   "metadata": {},
   "outputs": [],
   "source": []
  },
  {
   "cell_type": "code",
   "execution_count": null,
   "metadata": {},
   "outputs": [],
   "source": []
  },
  {
   "cell_type": "code",
   "execution_count": 3,
   "metadata": {},
   "outputs": [],
   "source": [
    "'''\n",
    "Draws a football field chart \n",
    "param: ticker(string)\n",
    "       db(dataframe)\n",
    "return: bar chart(pyplot) with price tags\n",
    "'''\n",
    "def valuation_chart(ticker, db):\n",
    "    ticker = ticker.upper()\n",
    "    #values needed to plot footbaal field chart\n",
    "    db['Range diff'] = db['52W Range High'] - db['52W Range Low']\n",
    "    db['DCF ms=0.5'] = db['DCF Value (tv=10']*0.5 #lowest DCF value * lowest margin\n",
    "    db['DCF Value diff'] = db['DCF Value (tv=15)'] - db['DCF ms=0.5']\n",
    "    db['SP diff'] = db['SP Fair Value'] - db['SP Buy Value (ms=0.5)']\n",
    "    \n",
    "    row = db.loc[db['index'] == ticker].iloc[0]\n",
    "    \n",
    "    df = pd.DataFrame(columns=['low', 'diff', 'high'], index=['DCF Value', 'SP Value', 'Range 52W H/L'])\n",
    "    df.iloc[0]['low'] = row['DCF ms=0.5'] #lowest possible buy value\n",
    "    df.iloc[0]['diff'] = row['DCF Value diff'] #what I want to see\n",
    "    df.iloc[0]['high'] = row['DCF Value (tv=15)'] #best fair value\n",
    "    df.iloc[1]['low'] = row['SP Buy Value (ms=0.5)']\n",
    "    df.iloc[1]['diff'] = row['SP diff']\n",
    "    df.iloc[1]['high'] = row['SP Fair Value']\n",
    "    df.iloc[2]['low'] = row['52W Range Low']\n",
    "    df.iloc[2]['diff'] = row['Range diff']\n",
    "    df.iloc[2]['high'] = row['52W Range High']\n",
    "    \n",
    "    price= row['Price']\n",
    "\n",
    "    fig, ax=plt.subplots()\n",
    "    df.plot(kind='bar', stacked=True, color=['w','burlywood','w'], legend=False, ax=ax)\n",
    "    ax.axhline(y=price, color='r', linestyle='dotted')\n",
    "    plt.title('Valuation summary, Ticker: ' + ticker)\n",
    "    plt.ylabel('Share Price ($)')\n",
    "    plt.xticks(rotation='horizontal')\n",
    "    plt.ylim(min(df['low'])-30, max(df['high'])+100)\n",
    "\n",
    "    # dynamic current price line labeling\n",
    "    trans = transforms.blended_transform_factory(ax.get_yticklabels()[0].get_transform(), ax.transData)\n",
    "    ax.text(0,price, \"{:.0f}\".format(price), color=\"red\", transform=trans, ha=\"right\", va=\"center\")\n",
    "\n",
    "    #del str\n",
    "    labels_1 = []\n",
    "    labels_2 = []\n",
    "    for j in df.columns:\n",
    "        for i in df.index:\n",
    "            label = \"$\" + str(round(df.loc[i][j], 2))\n",
    "            labels_1.append(label)\n",
    "            labels_2.append(label)\n",
    "\n",
    "    patches = ax.patches\n",
    "\n",
    "    for i in range(3, len(labels_1)):\n",
    "        labels_1[i] = ''\n",
    "        #labels_1 = ['$63.23', '$33.53', '$51.06', '', '', '', '', '', '']\n",
    "    for label, rect in zip(labels_1, patches):\n",
    "        width = rect.get_width()\n",
    "        if width > 0:\n",
    "            x = rect.get_x()\n",
    "            y = rect.get_y()\n",
    "            height = rect.get_height()\n",
    "            ax.text(x + width/2., y + height/1.1, label, ha='center', va='top')\n",
    "\n",
    "    for i in range(len(labels_2)-3):\n",
    "        labels_2[i] = ''\n",
    "        #labels_2 = ['', '', '', '', '', '', '$78.88', '$44.7', '$134.8']\n",
    "    for label, rect in zip(labels_2, patches):\n",
    "        width = rect.get_width()\n",
    "        if width > 0:\n",
    "            x = rect.get_x()\n",
    "            y = rect.get_y()\n",
    "            height = rect.get_height()\n",
    "            ax.text(x + width/2., y + height/14, label, ha='center', va='bottom')"
   ]
  },
  {
   "cell_type": "code",
   "execution_count": null,
   "metadata": {},
   "outputs": [],
   "source": []
  }
 ],
 "metadata": {
  "interpreter": {
   "hash": "c49390496f7eb6c96315a82eb38e3ecf2c1e2a9b335fbaa39aa0450a455560ce"
  },
  "kernelspec": {
   "display_name": "Python 3.7.7 64-bit ('finbert': pyenv)",
   "language": "python",
   "name": "python3"
  },
  "language_info": {
   "codemirror_mode": {
    "name": "ipython",
    "version": 3
   },
   "file_extension": ".py",
   "mimetype": "text/x-python",
   "name": "python",
   "nbconvert_exporter": "python",
   "pygments_lexer": "ipython3",
   "version": "3.7.7"
  },
  "orig_nbformat": 4
 },
 "nbformat": 4,
 "nbformat_minor": 2
}
