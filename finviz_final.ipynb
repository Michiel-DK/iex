{
 "cells": [
  {
   "cell_type": "code",
   "execution_count": 3,
   "metadata": {},
   "outputs": [],
   "source": [
    "from urllib.request import urlopen, Request\n",
    "import requests\n",
    "from bs4 import BeautifulSoup\n",
    "import os\n",
    "import pandas as pd\n",
    "import matplotlib.pyplot as plt\n",
    "%matplotlib inline"
   ]
  },
  {
   "cell_type": "code",
   "execution_count": 4,
   "metadata": {},
   "outputs": [],
   "source": [
    "headers = {\n",
    "    'authority': 'finviz.com',\n",
    "    'cache-control': 'max-age=0',\n",
    "    'sec-ch-ua': '\"Google Chrome\";v=\"95\", \"Chromium\";v=\"95\", \";Not A Brand\";v=\"99\"',\n",
    "    'sec-ch-ua-mobile': '?0',\n",
    "    'sec-ch-ua-platform': '\"macOS\"',\n",
    "    'upgrade-insecure-requests': '1',\n",
    "    'user-agent': 'Mozilla/5.0 (Macintosh; Intel Mac OS X 10_15_7) AppleWebKit/537.36 (KHTML, like Gecko) Chrome/95.0.4638.69 Safari/537.36',\n",
    "    'accept': 'text/html,application/xhtml+xml,application/xml;q=0.9,image/avif,image/webp,image/apng,*/*;q=0.8,application/signed-exchange;v=b3;q=0.9',\n",
    "    'sec-fetch-site': 'none',\n",
    "    'sec-fetch-mode': 'navigate',\n",
    "    'sec-fetch-user': '?1',\n",
    "    'sec-fetch-dest': 'document',\n",
    "    'accept-language': 'nl-BE,nl-NL;q=0.9,nl;q=0.8,en-US;q=0.7,en;q=0.6'}"
   ]
  },
  {
   "cell_type": "code",
   "execution_count": 18,
   "metadata": {},
   "outputs": [
    {
     "name": "stdout",
     "output_type": "stream",
     "text": [
      "sending request for TDOC\n",
      "sending request for RDS-A\n",
      "sending request for EURN\n"
     ]
    }
   ],
   "source": [
    "'''loop to get full table per ticker'''\n",
    "news_tables = {}\n",
    "financial = {}\n",
    "tickers = ['TDOC','RDS-A', 'EURN']\n",
    "\n",
    "for ticker in tickers:\n",
    "    print(f\"sending request for {ticker}\")\n",
    "    params = (\n",
    "    ('t', ticker),\n",
    "    )\n",
    "    response = requests.get('https://finviz.com/quote.ashx', headers=headers, params=params) \n",
    "    # Read the contents of the file into 'html'\n",
    "    html = BeautifulSoup(response.content, \"html.parser\")\n",
    "    # Find 'news-table' in the Soup and load it into 'news_table'\n",
    "    news_table = html.find('table', class_='fullview-news-outer').find_all('tr')\n",
    "    snapshot_table = html.find('table', class_='snapshot-table2')\n",
    "    # Add the table to our dictionary\n",
    "    news_tables[ticker] = news_table\n",
    "    financial[ticker] = snapshot_table"
   ]
  },
  {
   "cell_type": "code",
   "execution_count": 14,
   "metadata": {},
   "outputs": [],
   "source": [
    "'''Get final dict with news'''\n",
    "new_dict = {}\n",
    "\n",
    "# Iterate through the news\n",
    "for file_name, news_table in news_tables.items():\n",
    "    # Create new list per iteration\n",
    "    parsed_news = []\n",
    "    intermediate_dict = {}\n",
    "    # Iterate through all tr tags in 'news_table'\n",
    "    for x in news_table:\n",
    "        # read the text from each tr tag into text\n",
    "        # get text from a only\n",
    "        text = x.a.get_text() \n",
    "        # splite text in the td tag into a list \n",
    "        date_scrape = x.td.text.split()\n",
    "        # if the length of 'date_scrape' is 1, load 'time' as the only element\n",
    "\n",
    "        if len(date_scrape) == 1:\n",
    "            time = date_scrape[0]\n",
    "            \n",
    "        # else load 'date' as the 1st element and 'time' as the second    \n",
    "        else:\n",
    "            date = date_scrape[0]\n",
    "            time = date_scrape[1]\n",
    "        # Extract the ticker from the file name, get the string up to the 1st '_'  \n",
    "        #ticker = file_name.split('_')[0]\n",
    "        \n",
    "        # Append ticker, date, time and headline as a list to the 'parsed_news' list\n",
    "        parsed_news.append([date, text])\n",
    "    #intermediate dictionary\n",
    "    intermediate_dict['news'] = parsed_news\n",
    "    # Append full list to dict\n",
    "    new_dict[file_name] = intermediate_dict"
   ]
  },
  {
   "cell_type": "code",
   "execution_count": 57,
   "metadata": {},
   "outputs": [],
   "source": [
    "'''Get financial dict'''\n",
    "fin_dict = {}\n",
    "table_dark_row = financial['TDOC'].find_all('tr', class_=\"table-dark-row\")\n",
    "for i in table_dark_row:\n",
    "    keys = i.find_all('td', class_=\"snapshot-td2-cp\")\n",
    "    values = i.find_all('td', class_=\"snapshot-td2\")\n",
    "    for keys, values in zip(keys, values):\n",
    "        fin_dict[keys.text] =  values.text\n",
    "    #cp , td = i.find_all('td', class_=\"snapshot-td2-cp\"), i.find_all('td', class_=\"snapshot-td2\")\n",
    "    #for a, b in zip(cp,td):\n",
    "        #print(a.find('td', class_=\"snapshot-td2-cp\"))\n",
    "        #print(b.find('td', class_=\"snapshot-td2\"))\n",
    "    \n"
   ]
  },
  {
   "cell_type": "code",
   "execution_count": 58,
   "metadata": {},
   "outputs": [
    {
     "data": {
      "text/plain": [
       "{'Index': '-',\n",
       " 'P/E': '-',\n",
       " 'EPS (ttm)': '-5.76',\n",
       " 'Insider Own': '0.50%',\n",
       " 'Shs Outstand': '159.44M',\n",
       " 'Perf Week': '-6.71%',\n",
       " 'Market Cap': '21.70B',\n",
       " 'Forward P/E': '-',\n",
       " 'EPS next Y': '57.80%',\n",
       " 'Insider Trans': '-9.79%',\n",
       " 'Shs Float': '151.02M',\n",
       " 'Perf Month': '-0.34%',\n",
       " 'Income': '-811.80M',\n",
       " 'PEG': '-',\n",
       " 'EPS next Q': '-0.56',\n",
       " 'Inst Own': '79.50%',\n",
       " 'Short Float': '13.75%',\n",
       " 'Perf Quarter': '-1.98%',\n",
       " 'Sales': '1.86B',\n",
       " 'P/S': '11.66',\n",
       " 'EPS this Y': '-289.50%',\n",
       " 'Inst Trans': '1.54%',\n",
       " 'Short Ratio': '8.83',\n",
       " 'Perf Half Y': '-0.68%',\n",
       " 'Book/sh': '100.28',\n",
       " 'P/B': '1.36',\n",
       " 'ROA': '-4.60%',\n",
       " 'Target Price': '172.52',\n",
       " 'Perf Year': '-27.04%',\n",
       " 'Cash/sh': '5.19',\n",
       " 'P/C': '26.26',\n",
       " 'EPS next 5Y': '-',\n",
       " 'ROE': '-5.10%',\n",
       " '52W Range': '120.67 - 308.00',\n",
       " 'Perf YTD': '-31.78%',\n",
       " 'Dividend': '-',\n",
       " 'P/FCF': '-',\n",
       " 'EPS past 5Y': '-13.00%',\n",
       " 'ROI': '-2.50%',\n",
       " '52W High': '-55.71%',\n",
       " 'Beta': '0.32',\n",
       " 'Dividend %': '-',\n",
       " 'Quick Ratio': '3.60',\n",
       " 'Sales past 5Y': '69.90%',\n",
       " 'Gross Margin': '67.90%',\n",
       " '52W Low': '13.06%',\n",
       " 'ATR': '5.27',\n",
       " 'Employees': '4400',\n",
       " 'Current Ratio': '3.80',\n",
       " 'Sales Q/Q': '80.60%',\n",
       " 'Oper. Margin': '-39.00%',\n",
       " 'RSI (14)': '43.73',\n",
       " 'Volatility': '2.72% 4.03%',\n",
       " 'Optionable': 'Yes',\n",
       " 'Debt/Eq': '0.08',\n",
       " 'EPS Q/Q': '-23.30%',\n",
       " 'Profit Margin': '-43.60%',\n",
       " 'Rel Volume': '1.29',\n",
       " 'Prev Close': '135.56',\n",
       " 'Shortable': 'Yes',\n",
       " 'LT Debt/Eq': '0.08',\n",
       " 'Earnings': 'Oct 27 AMC',\n",
       " 'Payout': '-',\n",
       " 'Avg Volume': '2.35M',\n",
       " 'Price': '136.42',\n",
       " 'Recom': '2.30',\n",
       " 'SMA20': '-4.68%',\n",
       " 'SMA50': '-1.23%',\n",
       " 'SMA200': '-18.65%',\n",
       " 'Volume': '3,023,755',\n",
       " 'Change': '0.63%'}"
      ]
     },
     "execution_count": 58,
     "metadata": {},
     "output_type": "execute_result"
    }
   ],
   "source": [
    "fin_dict"
   ]
  },
  {
   "cell_type": "code",
   "execution_count": 30,
   "metadata": {},
   "outputs": [
    {
     "data": {
      "text/plain": [
       "<td align=\"left\" class=\"snapshot-td2\" width=\"8%\"><b>-</b></td>"
      ]
     },
     "execution_count": 30,
     "metadata": {},
     "output_type": "execute_result"
    }
   ],
   "source": [
    "financial['TDOC'].find('td', class_=\"snapshot-td2\")"
   ]
  },
  {
   "cell_type": "code",
   "execution_count": null,
   "metadata": {},
   "outputs": [],
   "source": []
  }
 ],
 "metadata": {
  "interpreter": {
   "hash": "08c4bcc36503284acb20157f31b33d9eb2adc2c23e1a25b07e29472b76e61d5a"
  },
  "kernelspec": {
   "display_name": "Python 3.8.12 64-bit ('shims': pyenv)",
   "language": "python",
   "name": "python3"
  },
  "language_info": {
   "codemirror_mode": {
    "name": "ipython",
    "version": 3
   },
   "file_extension": ".py",
   "mimetype": "text/x-python",
   "name": "python",
   "nbconvert_exporter": "python",
   "pygments_lexer": "ipython3",
   "version": "3.7.7"
  },
  "orig_nbformat": 4
 },
 "nbformat": 4,
 "nbformat_minor": 2
}
