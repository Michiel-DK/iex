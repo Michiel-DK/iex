{
 "cells": [
  {
   "cell_type": "code",
   "execution_count": 3,
   "metadata": {},
   "outputs": [],
   "source": [
    "from urllib.request import urlopen, Request\n",
    "import requests\n",
    "from bs4 import BeautifulSoup\n",
    "import os\n",
    "import pandas as pd\n",
    "import matplotlib.pyplot as plt\n",
    "%matplotlib inline"
   ]
  },
  {
   "cell_type": "code",
   "execution_count": 4,
   "metadata": {},
   "outputs": [],
   "source": [
    "headers = {\n",
    "    'authority': 'finviz.com',\n",
    "    'cache-control': 'max-age=0',\n",
    "    'sec-ch-ua': '\"Google Chrome\";v=\"95\", \"Chromium\";v=\"95\", \";Not A Brand\";v=\"99\"',\n",
    "    'sec-ch-ua-mobile': '?0',\n",
    "    'sec-ch-ua-platform': '\"macOS\"',\n",
    "    'upgrade-insecure-requests': '1',\n",
    "    'user-agent': 'Mozilla/5.0 (Macintosh; Intel Mac OS X 10_15_7) AppleWebKit/537.36 (KHTML, like Gecko) Chrome/95.0.4638.69 Safari/537.36',\n",
    "    'accept': 'text/html,application/xhtml+xml,application/xml;q=0.9,image/avif,image/webp,image/apng,*/*;q=0.8,application/signed-exchange;v=b3;q=0.9',\n",
    "    'sec-fetch-site': 'none',\n",
    "    'sec-fetch-mode': 'navigate',\n",
    "    'sec-fetch-user': '?1',\n",
    "    'sec-fetch-dest': 'document',\n",
    "    'accept-language': 'nl-BE,nl-NL;q=0.9,nl;q=0.8,en-US;q=0.7,en;q=0.6'}"
   ]
  },
  {
   "cell_type": "code",
   "execution_count": 18,
   "metadata": {},
   "outputs": [
    {
     "name": "stdout",
     "output_type": "stream",
     "text": [
      "sending request for TDOC\n",
      "sending request for RDS-A\n",
      "sending request for EURN\n"
     ]
    }
   ],
   "source": [
    "'''loop to get full table per ticker'''\n",
    "news_tables = {}\n",
    "financial = {}\n",
    "tickers = ['TDOC','RDS-A', 'EURN']\n",
    "\n",
    "for ticker in tickers:\n",
    "    print(f\"sending request for {ticker}\")\n",
    "    params = (\n",
    "    ('t', ticker),\n",
    "    )\n",
    "    response = requests.get('https://finviz.com/quote.ashx', headers=headers, params=params) \n",
    "    # Read the contents of the file into 'html'\n",
    "    html = BeautifulSoup(response.content, \"html.parser\")\n",
    "    # Find 'news-table' in the Soup and load it into 'news_table'\n",
    "    news_table = html.find('table', class_='fullview-news-outer').find_all('tr')\n",
    "    snapshot_table = html.find('table', class_='snapshot-table2')\n",
    "    # Add the table to our dictionary\n",
    "    news_tables[ticker] = news_table\n",
    "    financial[ticker] = snapshot_table"
   ]
  },
  {
   "cell_type": "code",
   "execution_count": 196,
   "metadata": {},
   "outputs": [],
   "source": [
    "'''Get final dict with news'''\n",
    "new_dict = {}\n",
    "\n",
    "# Iterate through the news\n",
    "for file_name, news_table in news_tables.items():\n",
    "    # Create new list per iteration\n",
    "    parsed_news = []\n",
    "    intermediate_dict = {}\n",
    "    # Iterate through all tr tags in 'news_table'\n",
    "    for x in news_table:\n",
    "        # read the text from each tr tag into text\n",
    "        # get text from a only\n",
    "        text = x.a.get_text() \n",
    "        # splite text in the td tag into a list \n",
    "        date_scrape = x.td.text.split()\n",
    "        # if the length of 'date_scrape' is 1, load 'time' as the only element\n",
    "\n",
    "        if len(date_scrape) == 1:\n",
    "            time = date_scrape[0]\n",
    "            \n",
    "        # else load 'date' as the 1st element and 'time' as the second    \n",
    "        else:\n",
    "            date = date_scrape[0]\n",
    "            time = date_scrape[1]\n",
    "        # Extract the ticker from the file name, get the string up to the 1st '_'  \n",
    "        #ticker = file_name.split('_')[0]\n",
    "        \n",
    "        # Append ticker, date, time and headline as a list to the 'parsed_news' list\n",
    "        parsed_news.append([date, text])\n",
    "    #intermediate dictionary\n",
    "    intermediate_dict['news'] = parsed_news\n",
    "    # Append full list to dict\n",
    "    new_dict[file_name] = intermediate_dict\n"
   ]
  },
  {
   "cell_type": "code",
   "execution_count": 197,
   "metadata": {},
   "outputs": [],
   "source": [
    "'''Get financial dict'''\n",
    "financial_dict = {}\n",
    "for ticker, values in financial.items():\n",
    "    table_dark_row = values.find_all('tr', class_=\"table-dark-row\")\n",
    "    values_dict = {}\n",
    "    intermediate_dict = {}\n",
    "    #table_dark_row = financial['TDOC'].find_all('tr', class_=\"table-dark-row\")\n",
    "    for i in table_dark_row:\n",
    "        keys = i.find_all('td', class_=\"snapshot-td2-cp\")\n",
    "        values = i.find_all('td', class_=\"snapshot-td2\")\n",
    "        for keys, values in zip(keys, values):\n",
    "            values_dict[keys.text] =  values.text\n",
    "    intermediate_dict['fundamentals'] = values_dict\n",
    "    new_dict[ticker]['fundamentals'] = values_dict\n"
   ]
  },
  {
   "cell_type": "code",
   "execution_count": 170,
   "metadata": {},
   "outputs": [],
   "source": [
    "d = {}\n",
    "\n",
    "for key in set(list(new_dict.keys()) + list(financial_dict.keys())):\n",
    "    try:\n",
    "        d.setdefault(key,[]).append(dict(new_dict[key]))     \n",
    "    except KeyError:\n",
    "        pass\n",
    "\n",
    "    try:\n",
    "        d.setdefault(key,[]).append(financial_dict[key])          \n",
    "    except KeyError:\n",
    "        pass\n"
   ]
  },
  {
   "cell_type": "code",
   "execution_count": null,
   "metadata": {},
   "outputs": [],
   "source": []
  },
  {
   "cell_type": "code",
   "execution_count": null,
   "metadata": {},
   "outputs": [],
   "source": []
  }
 ],
 "metadata": {
  "interpreter": {
   "hash": "08c4bcc36503284acb20157f31b33d9eb2adc2c23e1a25b07e29472b76e61d5a"
  },
  "kernelspec": {
   "display_name": "Python 3.8.12 64-bit ('shims': pyenv)",
   "language": "python",
   "name": "python3"
  },
  "language_info": {
   "codemirror_mode": {
    "name": "ipython",
    "version": 3
   },
   "file_extension": ".py",
   "mimetype": "text/x-python",
   "name": "python",
   "nbconvert_exporter": "python",
   "pygments_lexer": "ipython3",
   "version": "3.7.7"
  },
  "orig_nbformat": 4
 },
 "nbformat": 4,
 "nbformat_minor": 2
}
