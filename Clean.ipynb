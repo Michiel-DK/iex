{
 "cells": [
  {
   "cell_type": "code",
   "execution_count": 7,
   "metadata": {},
   "outputs": [],
   "source": [
    "# Imports\n",
    "from iexfinance.stocks import Stock\n",
    "import requests\n",
    "import urllib.parse\n",
    "import requests\n",
    "import pandas as pd\n",
    "import datetime\n",
    "import matplotlib.pyplot as plt\n",
    "import time\n",
    "import seaborn as sns"
   ]
  },
  {
   "cell_type": "code",
   "execution_count": 3,
   "metadata": {},
   "outputs": [],
   "source": [
    "# Set-up\n",
    "period = 'quarter'\n",
    "time = '24'\n",
    "symbol = \"ADBE\"\n",
    "token = 'Tsk_910a8ace8ad14af698bc4a65be1a4219'"
   ]
  },
  {
   "cell_type": "code",
   "execution_count": 4,
   "metadata": {},
   "outputs": [],
   "source": [
    "dic = {}\n",
    "\n",
    "def get_df(portfolio, period, time, token):\n",
    "    for ticker in portfolio:\n",
    "        financials_url = f\"https://sandbox.iexapis.com/stable/stock/{ticker}/financials?period={period}&last={time}&token={token}\"\n",
    "        financials_json = requests.get(financials_url).json()\n",
    "        dic[ticker] = pd.DataFrame(financials_json['financials'])"
   ]
  },
  {
   "cell_type": "code",
   "execution_count": 5,
   "metadata": {},
   "outputs": [],
   "source": [
    "get_df(symbol,period,time,token)"
   ]
  },
  {
   "cell_type": "code",
   "execution_count": 6,
   "metadata": {},
   "outputs": [
    {
     "ename": "KeyError",
     "evalue": "'ADBE'",
     "output_type": "error",
     "traceback": [
      "\u001b[0;31m---------------------------------------------------------------------------\u001b[0m",
      "\u001b[0;31mKeyError\u001b[0m                                  Traceback (most recent call last)",
      "\u001b[0;32m<ipython-input-6-a25bf555e035>\u001b[0m in \u001b[0;36m<module>\u001b[0;34m\u001b[0m\n\u001b[0;32m----> 1\u001b[0;31m \u001b[0mdic\u001b[0m\u001b[0;34m[\u001b[0m\u001b[0;34m'ADBE'\u001b[0m\u001b[0;34m]\u001b[0m\u001b[0;34m\u001b[0m\u001b[0;34m\u001b[0m\u001b[0m\n\u001b[0m",
      "\u001b[0;31mKeyError\u001b[0m: 'ADBE'"
     ]
    }
   ],
   "source": [
    "dic['ADBE']"
   ]
  },
  {
   "cell_type": "code",
   "execution_count": 7,
   "metadata": {},
   "outputs": [],
   "source": [
    "# URL set-up\n",
    "income_url = f'https://sandbox.iexapis.com/stable/stock/{symbol}/income?period={period}&last={time}&token=Tsk_910a8ace8ad14af698bc4a65be1a4219'\n",
    "cash_url = f'https://sandbox.iexapis.com/stable/stock/{symbol}/cash-flow?period={period}&last={time}&token=Tsk_910a8ace8ad14af698bc4a65be1a4219'\n",
    "balance_url = f'https://sandbox.iexapis.com/stable/stock/{symbol}/balance-sheet?period={period}&last={time}&token=Tsk_910a8ace8ad14af698bc4a65be1a4219'\n",
    "financials_url = f\"https://sandbox.iexapis.com/stable/stock/{symbol}/financials?period={period}&last={time}&token=Tsk_910a8ace8ad14af698bc4a65be1a4219\"\n",
    "fundamentals_url = f\"https://sandbox.iexapis.com/stable/time-series/fundamentals/{symbol}/{period}ly?range={time}q&token=Tsk_910a8ace8ad14af698bc4a65be1a4219\"\n",
    "stats_url = f\"https://sandbox.iexapis.com/stable/stock/{symbol}/stats?token=Tsk_910a8ace8ad14af698bc4a65be1a4219\""
   ]
  },
  {
   "cell_type": "code",
   "execution_count": 8,
   "metadata": {},
   "outputs": [],
   "source": [
    "# URL request\n",
    "income = pd.DataFrame(requests.get(income_url).json()['income'])\n",
    "cash = pd.DataFrame(requests.get(cash_url).json()['cashflow'])\n",
    "balance = pd.DataFrame(requests.get(balance_url).json()['balancesheet'])\n",
    "financials = pd.DataFrame(requests.get(financials_url).json()['financials'])\n",
    "stats = requests.get(stats_url).json()"
   ]
  },
  {
   "cell_type": "code",
   "execution_count": 9,
   "metadata": {},
   "outputs": [],
   "source": [
    "tables = [income,cash,balance,financials]"
   ]
  },
  {
   "cell_type": "code",
   "execution_count": 10,
   "metadata": {},
   "outputs": [],
   "source": [
    "financials['merger'] = financials[['fiscalYear', 'fiscalQuarter']].astype('str').agg('-'.join, axis=1)"
   ]
  },
  {
   "cell_type": "code",
   "execution_count": 11,
   "metadata": {},
   "outputs": [],
   "source": [
    "def lower_columns(ls):\n",
    "    for table in ls:\n",
    "        table.rename(str.lower, axis='columns', inplace=True)"
   ]
  },
  {
   "cell_type": "code",
   "execution_count": 41,
   "metadata": {},
   "outputs": [],
   "source": [
    "def date_to_index(ls):\n",
    "    for table in ls:\n",
    "        table.set_index(pd.to_datetime(table['fiscaldate'].apply(lambda x: x[:7])), inplace=True)"
   ]
  },
  {
   "cell_type": "code",
   "execution_count": null,
   "metadata": {},
   "outputs": [],
   "source": []
  },
  {
   "cell_type": "code",
   "execution_count": 42,
   "metadata": {},
   "outputs": [],
   "source": [
    "lower_columns(tables)\n",
    "date_to_index(tables)"
   ]
  },
  {
   "cell_type": "code",
   "execution_count": 45,
   "metadata": {},
   "outputs": [
    {
     "data": {
      "text/plain": [
       "DatetimeIndex(['2020-11-01', '2020-08-01', '2020-05-01', '2020-02-01',\n",
       "               '2019-11-01', '2019-08-01', '2019-05-01', '2019-02-01',\n",
       "               '2018-11-01', '2018-08-01', '2018-05-01', '2018-03-01',\n",
       "               '2017-11-01', '2017-08-01', '2017-05-01', '2017-02-01',\n",
       "               '2016-11-01', '2016-08-01', '2016-05-01', '2016-02-01',\n",
       "               '2015-11-01', '2015-08-01', '2015-05-01', '2015-02-01'],\n",
       "              dtype='datetime64[ns]', name='fiscaldate', freq=None)"
      ]
     },
     "execution_count": 45,
     "metadata": {},
     "output_type": "execute_result"
    }
   ],
   "source": [
    "cash.index"
   ]
  },
  {
   "cell_type": "code",
   "execution_count": 15,
   "metadata": {},
   "outputs": [],
   "source": [
    "# Collection table\n",
    "collection = pd.DataFrame()\n",
    "collection = financials[['revenue','netincome','operatingincome','cashflow','ebitda','totalassets','totalcash','totaldebt','shareholderequity','merger']]\n",
    "cash['fcf'] = cash.loc[:,'cashflow'] - cash.loc[:,'capitalexpenditures']\n",
    "collection = collection.merge(cash['fcf'], left_index=True,right_index=True)"
   ]
  },
  {
   "cell_type": "code",
   "execution_count": 16,
   "metadata": {},
   "outputs": [],
   "source": [
    "collection_q = collection.copy()\n",
    "collection_q['time'] = 'q'\n",
    "collection_y = collection.groupby(pd.Grouper(freq='y')).agg({'revenue':'sum', 'netincome':'sum', 'operatingincome':'sum'})\n",
    "collection_y['time'] = 'y'"
   ]
  },
  {
   "cell_type": "code",
   "execution_count": 17,
   "metadata": {},
   "outputs": [],
   "source": [
    "def add_profitability(df):\n",
    "    df['operating_margin'] = df['operatingincome'] / df['revenue']\n",
    "    df['net_margin'] = df['netincome'] / df['revenue']\n",
    "    df['asset_turnover'] = df['revenue'] / df['totalassets']\n",
    "    df['roa'] = df['netincome']*4/ df['totalassets']\n",
    "    df['equity_multipl'] = df['totalassets'] / df['shareholderequity']\n",
    "    df['roe'] = df['netincome'] / df['shareholderequity']\n",
    "    df['fcf_margin'] = df['fcf'] / df['revenue']"
   ]
  },
  {
   "cell_type": "code",
   "execution_count": 18,
   "metadata": {},
   "outputs": [],
   "source": [
    "def add_financial_strength(df):\n",
    "    df['cash_debt'] = df['totalcash'] / df['totaldebt']\n",
    "    df['equity_asset'] = df['shareholderequity'] / df['totalassets']\n",
    "    df['debt_equity'] = df['totaldebt'] / df['shareholderequity']\n",
    "    df['debt_ebitda'] = df['totaldebt'] / (df['ebitda']*4)"
   ]
  },
  {
   "cell_type": "code",
   "execution_count": 19,
   "metadata": {},
   "outputs": [],
   "source": [
    "add_profitability(collection_q)\n",
    "add_financial_strength(collection_q)"
   ]
  },
  {
   "cell_type": "code",
   "execution_count": 53,
   "metadata": {},
   "outputs": [
    {
     "data": {
      "text/plain": [
       "Index(['revenue', 'netincome', 'operatingincome', 'cashflow', 'ebitda',\n",
       "       'totalassets', 'totalcash', 'totaldebt', 'shareholderequity', 'merger',\n",
       "       'fcf', 'time', 'operating_margin', 'net_margin', 'asset_turnover',\n",
       "       'roa', 'equity_multipl', 'roe', 'fcf_margin', 'cash_debt',\n",
       "       'equity_asset', 'debt_equity', 'debt_ebitda'],\n",
       "      dtype='object')"
      ]
     },
     "execution_count": 53,
     "metadata": {},
     "output_type": "execute_result"
    }
   ],
   "source": [
    "collection_q.columns"
   ]
  },
  {
   "cell_type": "code",
   "execution_count": 51,
   "metadata": {},
   "outputs": [
    {
     "data": {
      "text/plain": [
       "Text(0, 0.5, '$ billions')"
      ]
     },
     "execution_count": 51,
     "metadata": {},
     "output_type": "execute_result"
    },
    {
     "data": {
      "image/png": "[encoded data removed]",
      "text/plain": [
       "<Figure size 1440x432 with 1 Axes>"
      ]
     },
     "metadata": {
      "needs_background": "light"
     },
     "output_type": "display_data"
    }
   ],
   "source": [
    "collection_q[['revenue','netincome']].sort_index().plot(kind='bar',figsize=(20,6))\n",
    "plt.title(\"Revenue vs Net-Income\")\n",
    "plt.ylabel(\"$ billions\")"
   ]
  },
  {
   "cell_type": "code",
   "execution_count": 60,
   "metadata": {},
   "outputs": [
    {
     "data": {
      "text/plain": [
       "Text(0, 0.5, '%')"
      ]
     },
     "execution_count": 60,
     "metadata": {},
     "output_type": "execute_result"
    },
    {
     "data": {
      "image/png": "[encoded data removed]",
      "text/plain": [
       "<Figure size 1440x432 with 1 Axes>"
      ]
     },
     "metadata": {
      "needs_background": "light"
     },
     "output_type": "display_data"
    }
   ],
   "source": [
    "collection_q[['operating_margin','net_margin']].sort_index().plot(kind='bar',figsize=(20,6))\n",
    "plt.title(\"Operating margin vs net margin\")\n",
    "plt.ylabel(\"%\")"
   ]
  },
  {
   "cell_type": "code",
   "execution_count": 62,
   "metadata": {},
   "outputs": [
    {
     "data": {
      "text/plain": [
       "Text(0, 0.5, '%')"
      ]
     },
     "execution_count": 62,
     "metadata": {},
     "output_type": "execute_result"
    },
    {
     "data": {
      "image/png": "[encoded data removed]",
      "text/plain": [
       "<Figure size 1440x432 with 1 Axes>"
      ]
     },
     "metadata": {
      "needs_background": "light"
     },
     "output_type": "display_data"
    }
   ],
   "source": [
    "collection_q[['roe','roa']].sort_index().plot(kind='bar',figsize=(20,6))\n",
    "plt.title(\"ROE vs ROA\")\n",
    "plt.ylabel(\"%\")"
   ]
  },
  {
   "cell_type": "code",
   "execution_count": 10,
   "metadata": {},
   "outputs": [
    {
     "data": {
      "text/plain": [
       "{'symbol': 'ADBE',\n",
       " 'companyName': 'Adobe Inc',\n",
       " 'exchange': 'SDLSGS NA)RGAO  QAKLLBNET(AMEE/CT',\n",
       " 'industry': 'ribeSsoh wesPatulfr',\n",
       " 'website': 'ac:dme/woob/w/h.pswtt.',\n",
       " 'description': '0',\n",
       " 'CEO': 'uaaSann hNaretyn',\n",
       " 'securityName': 'd enoAIbc',\n",
       " 'issueType': 'sc',\n",
       " 'sector': 'tmroaoIfnni',\n",
       " 'primarySicCode': 7545,\n",
       " 'employees': None,\n",
       " 'tags': ['oeTgSeirsnoh yccvle',\n",
       "  'adfea ecwtorPSgka',\n",
       "  'mifaonIrnto',\n",
       "  'fbrlwtesrisPeouhS a'],\n",
       " 'address': '4v 3AP re5ka',\n",
       " 'address2': None,\n",
       " 'state': 'aCniiafrlo',\n",
       " 'city': 'enoSsJa ',\n",
       " 'zip': '1-45001729',\n",
       " 'country': 'SU',\n",
       " 'phone': '14731838891'}"
      ]
     },
     "execution_count": 10,
     "metadata": {},
     "output_type": "execute_result"
    }
   ],
   "source": [
    "requests.get(f\"https://sandbox.iexapis.com/stable/stock/{symbol}/company?token={token}\").json()"
   ]
  },
  {
   "cell_type": "code",
   "execution_count": null,
   "metadata": {},
   "outputs": [],
   "source": []
  }
 ],
 "metadata": {
  "kernelspec": {
   "display_name": "Python 3",
   "language": "python",
   "name": "python3"
  },
  "language_info": {
   "codemirror_mode": {
    "name": "ipython",
    "version": 3
   },
   "file_extension": ".py",
   "mimetype": "text/x-python",
   "name": "python",
   "nbconvert_exporter": "python",
   "pygments_lexer": "ipython3",
   "version": "3.7.7"
  },
  "varInspector": {
   "cols": {
    "lenName": 16,
    "lenType": 16,
    "lenVar": 40
   },
   "kernels_config": {
    "python": {
     "delete_cmd_postfix": "",
     "delete_cmd_prefix": "del ",
     "library": "var_list.py",
     "varRefreshCmd": "print(var_dic_list())"
    },
    "r": {
     "delete_cmd_postfix": ") ",
     "delete_cmd_prefix": "rm(",
     "library": "var_list.r",
     "varRefreshCmd": "cat(var_dic_list()) "
    }
   },
   "types_to_exclude": [
    "module",
    "function",
    "builtin_function_or_method",
    "instance",
    "_Feature"
   ],
   "window_display": false
  }
 },
 "nbformat": 4,
 "nbformat_minor": 4
}
