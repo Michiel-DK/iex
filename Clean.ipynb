{
 "cells": [
  {
   "cell_type": "code",
   "execution_count": 224,
   "metadata": {},
   "outputs": [],
   "source": [
    "# Imports\n",
    "from iexfinance.stocks import Stock\n",
    "import requests\n",
    "import urllib.parse\n",
    "import requests\n",
    "import pandas as pd\n",
    "import datetime\n",
    "import matplotlib.pyplot as plt\n",
    "import time\n",
    "import seaborn as sns"
   ]
  },
  {
   "cell_type": "code",
   "execution_count": 1,
   "metadata": {},
   "outputs": [],
   "source": [
    "# Set-up\n",
    "period = 'quarter'\n",
    "time = '24'\n",
    "symbol = \"ADBE\""
   ]
  },
  {
   "cell_type": "code",
   "execution_count": 387,
   "metadata": {},
   "outputs": [],
   "source": [
    "# URL set-up\n",
    "income_url = f'https://sandbox.iexapis.com/stable/stock/{symbol}/income?period={period}&last={time}&token=Tsk_910a8ace8ad14af698bc4a65be1a4219'\n",
    "cash_url = f'https://sandbox.iexapis.com/stable/stock/{symbol}/cash-flow?period={period}&last={time}&token=Tsk_910a8ace8ad14af698bc4a65be1a4219'\n",
    "balance_url = f'https://sandbox.iexapis.com/stable/stock/{symbol}/balance-sheet?period={period}&last={time}&token=Tsk_910a8ace8ad14af698bc4a65be1a4219'\n",
    "financials_url = f\"https://sandbox.iexapis.com/stable/stock/{symbol}/financials?period={period}&last={time}&token=Tsk_910a8ace8ad14af698bc4a65be1a4219\"\n",
    "fundamentals_url = f\"https://sandbox.iexapis.com/stable/time-series/fundamentals/{symbol}/{period}ly?range={time}q&token=Tsk_910a8ace8ad14af698bc4a65be1a4219\"\n",
    "stats_url = f\"https://sandbox.iexapis.com/stable/stock/{symbol}/stats?token=Tsk_910a8ace8ad14af698bc4a65be1a4219\""
   ]
  },
  {
   "cell_type": "code",
   "execution_count": 388,
   "metadata": {},
   "outputs": [],
   "source": [
    "# URL request\n",
    "income = pd.DataFrame(requests.get(income_url).json()['income'])\n",
    "cash = pd.DataFrame(requests.get(cash_url).json()['cashflow'])\n",
    "balance = pd.DataFrame(requests.get(balance_url).json()['balancesheet'])\n",
    "financials = pd.DataFrame(requests.get(financials_url).json()['financials'])\n",
    "stats = requests.get(stats_url).json()"
   ]
  },
  {
   "cell_type": "code",
   "execution_count": 389,
   "metadata": {},
   "outputs": [],
   "source": [
    "tables = [income,cash,balance,financials]"
   ]
  },
  {
   "cell_type": "code",
   "execution_count": 405,
   "metadata": {},
   "outputs": [],
   "source": [
    "financials['merger'] = financials[['fiscalYear', 'fiscalQuarter']].astype('str').agg('-'.join, axis=1)"
   ]
  },
  {
   "cell_type": "code",
   "execution_count": 240,
   "metadata": {},
   "outputs": [],
   "source": [
    "def lower_columns(ls):\n",
    "    for table in ls:\n",
    "        table.rename(str.lower, axis='columns', inplace=True)"
   ]
  },
  {
   "cell_type": "code",
   "execution_count": 406,
   "metadata": {},
   "outputs": [],
   "source": [
    "def date_to_index(ls):\n",
    "    for table in ls:\n",
    "        table.set_index(pd.to_datetime(table['fiscaldate'].apply(lambda x: x[:7])), inplace=True)"
   ]
  },
  {
   "cell_type": "code",
   "execution_count": 407,
   "metadata": {},
   "outputs": [],
   "source": [
    "lower_columns(tables)\n",
    "date_to_index(tables)"
   ]
  },
  {
   "cell_type": "code",
   "execution_count": 446,
   "metadata": {},
   "outputs": [
    {
     "name": "stderr",
     "output_type": "stream",
     "text": [
      "/Users/admin/.pyenv/versions/3.7.7/envs/lewagon/lib/python3.7/site-packages/ipykernel_launcher.py:4: SettingWithCopyWarning: \n",
      "A value is trying to be set on a copy of a slice from a DataFrame.\n",
      "Try using .loc[row_indexer,col_indexer] = value instead\n",
      "\n",
      "See the caveats in the documentation: https://pandas.pydata.org/pandas-docs/stable/user_guide/indexing.html#returning-a-view-versus-a-copy\n",
      "  after removing the cwd from sys.path.\n"
     ]
    }
   ],
   "source": [
    "# Collection table\n",
    "collection = pd.DataFrame()\n",
    "collection = financials[['revenue','netincome','operatingincome','cashflow','ebitda','totalassets','totalcash','totaldebt','shareholderequity','merger']]\n",
    "collection['fcf'] = cash['cashflow'] + cash['capitalexpenditures']"
   ]
  },
  {
   "cell_type": "code",
   "execution_count": 431,
   "metadata": {},
   "outputs": [
    {
     "name": "stderr",
     "output_type": "stream",
     "text": [
      "/Users/admin/.pyenv/versions/3.7.7/envs/lewagon/lib/python3.7/site-packages/ipykernel_launcher.py:2: SettingWithCopyWarning: \n",
      "A value is trying to be set on a copy of a slice from a DataFrame.\n",
      "Try using .loc[row_indexer,col_indexer] = value instead\n",
      "\n",
      "See the caveats in the documentation: https://pandas.pydata.org/pandas-docs/stable/user_guide/indexing.html#returning-a-view-versus-a-copy\n",
      "  \n"
     ]
    }
   ],
   "source": [
    "collection_q = collection\n",
    "collection_q['time'] = 'q'\n",
    "collection_y = collection.groupby(pd.Grouper(freq='y')).agg({'revenue':'sum', 'netincome':'sum', 'operatingincome':'sum'})\n",
    "collection_y['time'] = 'y'"
   ]
  },
  {
   "cell_type": "code",
   "execution_count": 432,
   "metadata": {},
   "outputs": [],
   "source": [
    "def add_profitability(df):\n",
    "    df['operating_margin'] = df['operatingincome'] / df['revenue']\n",
    "    df['net_margin'] = df['netincome'] / df['revenue']\n",
    "    df['asset_turnover'] = df['revenue'] / df['totalassets']\n",
    "    df['roa'] = df['netincome']*4/ df['totalassets']\n",
    "    df['equity_multipl'] = df['totalassets'] / df['shareholderequity']\n",
    "    df['roe'] = df['netincome'] / df['shareholderequity']\n",
    "    df['fcf_margin'] = df['fcf'] / df['revenue']"
   ]
  },
  {
   "cell_type": "code",
   "execution_count": 434,
   "metadata": {},
   "outputs": [],
   "source": [
    "def add_financial_strength(df):\n",
    "    df['cash_debt'] = df['totalcash'] / df['totaldebt']\n",
    "    df['equity_asset'] = df['shareholderequity'] / df['totalassets']\n",
    "    df['debt_equity'] = df['totaldebt'] / df['shareholderequity']\n",
    "    df['debt_ebitda'] = df['totaldebt'] / (df['ebitda']*4)"
   ]
  },
  {
   "cell_type": "code",
   "execution_count": 435,
   "metadata": {},
   "outputs": [
    {
     "name": "stderr",
     "output_type": "stream",
     "text": [
      "/Users/admin/.pyenv/versions/3.7.7/envs/lewagon/lib/python3.7/site-packages/ipykernel_launcher.py:2: SettingWithCopyWarning: \n",
      "A value is trying to be set on a copy of a slice from a DataFrame.\n",
      "Try using .loc[row_indexer,col_indexer] = value instead\n",
      "\n",
      "See the caveats in the documentation: https://pandas.pydata.org/pandas-docs/stable/user_guide/indexing.html#returning-a-view-versus-a-copy\n",
      "  \n",
      "/Users/admin/.pyenv/versions/3.7.7/envs/lewagon/lib/python3.7/site-packages/ipykernel_launcher.py:3: SettingWithCopyWarning: \n",
      "A value is trying to be set on a copy of a slice from a DataFrame.\n",
      "Try using .loc[row_indexer,col_indexer] = value instead\n",
      "\n",
      "See the caveats in the documentation: https://pandas.pydata.org/pandas-docs/stable/user_guide/indexing.html#returning-a-view-versus-a-copy\n",
      "  This is separate from the ipykernel package so we can avoid doing imports until\n",
      "/Users/admin/.pyenv/versions/3.7.7/envs/lewagon/lib/python3.7/site-packages/ipykernel_launcher.py:4: SettingWithCopyWarning: \n",
      "A value is trying to be set on a copy of a slice from a DataFrame.\n",
      "Try using .loc[row_indexer,col_indexer] = value instead\n",
      "\n",
      "See the caveats in the documentation: https://pandas.pydata.org/pandas-docs/stable/user_guide/indexing.html#returning-a-view-versus-a-copy\n",
      "  after removing the cwd from sys.path.\n",
      "/Users/admin/.pyenv/versions/3.7.7/envs/lewagon/lib/python3.7/site-packages/ipykernel_launcher.py:5: SettingWithCopyWarning: \n",
      "A value is trying to be set on a copy of a slice from a DataFrame.\n",
      "Try using .loc[row_indexer,col_indexer] = value instead\n",
      "\n",
      "See the caveats in the documentation: https://pandas.pydata.org/pandas-docs/stable/user_guide/indexing.html#returning-a-view-versus-a-copy\n",
      "  \"\"\"\n",
      "/Users/admin/.pyenv/versions/3.7.7/envs/lewagon/lib/python3.7/site-packages/ipykernel_launcher.py:6: SettingWithCopyWarning: \n",
      "A value is trying to be set on a copy of a slice from a DataFrame.\n",
      "Try using .loc[row_indexer,col_indexer] = value instead\n",
      "\n",
      "See the caveats in the documentation: https://pandas.pydata.org/pandas-docs/stable/user_guide/indexing.html#returning-a-view-versus-a-copy\n",
      "  \n",
      "/Users/admin/.pyenv/versions/3.7.7/envs/lewagon/lib/python3.7/site-packages/ipykernel_launcher.py:7: SettingWithCopyWarning: \n",
      "A value is trying to be set on a copy of a slice from a DataFrame.\n",
      "Try using .loc[row_indexer,col_indexer] = value instead\n",
      "\n",
      "See the caveats in the documentation: https://pandas.pydata.org/pandas-docs/stable/user_guide/indexing.html#returning-a-view-versus-a-copy\n",
      "  import sys\n",
      "/Users/admin/.pyenv/versions/3.7.7/envs/lewagon/lib/python3.7/site-packages/ipykernel_launcher.py:8: SettingWithCopyWarning: \n",
      "A value is trying to be set on a copy of a slice from a DataFrame.\n",
      "Try using .loc[row_indexer,col_indexer] = value instead\n",
      "\n",
      "See the caveats in the documentation: https://pandas.pydata.org/pandas-docs/stable/user_guide/indexing.html#returning-a-view-versus-a-copy\n",
      "  \n"
     ]
    }
   ],
   "source": [
    "add_profitability(collection_q)\n",
    "add_financial_strength(collection_q)"
   ]
  },
  {
   "cell_type": "code",
   "execution_count": 454,
   "metadata": {},
   "outputs": [
    {
     "data": {
      "text/plain": [
       "Index(['revenue', 'netincome', 'operatingincome', 'cashflow', 'ebitda',\n",
       "       'totalassets', 'totalcash', 'totaldebt', 'shareholderequity', 'merger',\n",
       "       'fcf', 'time', 'operating_margin', 'net_margin', 'asset_turnover',\n",
       "       'roa', 'equity_multipl', 'roe', 'fcf_margin', 'cash_debt',\n",
       "       'equity_asset', 'debt_equity', 'debt_ebitda'],\n",
       "      dtype='object')"
      ]
     },
     "execution_count": 454,
     "metadata": {},
     "output_type": "execute_result"
    }
   ],
   "source": [
    "collection_q.columns"
   ]
  },
  {
   "cell_type": "code",
   "execution_count": 461,
   "metadata": {},
   "outputs": [
    {
     "data": {
      "text/plain": [
       "[<matplotlib.lines.Line2D at 0x11b9fe5d0>,\n",
       " <matplotlib.lines.Line2D at 0x11ba0b650>]"
      ]
     },
     "execution_count": 461,
     "metadata": {},
     "output_type": "execute_result"
    },
    {
     "data": {
      "image/png": "[encoded data removed]",
      "text/plain": [
       "<Figure size 432x288 with 1 Axes>"
      ]
     },
     "metadata": {
      "needs_background": "light"
     },
     "output_type": "display_data"
    }
   ],
   "source": [
    "plt.plot(collection_q[['revenue','netincome']])"
   ]
  },
  {
   "cell_type": "code",
   "execution_count": 462,
   "metadata": {},
   "outputs": [
    {
     "data": {
      "text/plain": [
       "[<matplotlib.lines.Line2D at 0x11ba834d0>,\n",
       " <matplotlib.lines.Line2D at 0x11ba91410>,\n",
       " <matplotlib.lines.Line2D at 0x11ba91350>]"
      ]
     },
     "execution_count": 462,
     "metadata": {},
     "output_type": "execute_result"
    },
    {
     "data": {
      "image/png": "[encoded data removed]",
      "text/plain": [
       "<Figure size 432x288 with 1 Axes>"
      ]
     },
     "metadata": {
      "needs_background": "light"
     },
     "output_type": "display_data"
    }
   ],
   "source": [
    "plt.plot(collection_q[['operatingincome','fcf','netincome']])"
   ]
  },
  {
   "cell_type": "code",
   "execution_count": null,
   "metadata": {},
   "outputs": [],
   "source": []
  }
 ],
 "metadata": {
  "kernelspec": {
   "display_name": "Python 3",
   "language": "python",
   "name": "python3"
  },
  "language_info": {
   "codemirror_mode": {
    "name": "ipython",
    "version": 3
   },
   "file_extension": ".py",
   "mimetype": "text/x-python",
   "name": "python",
   "nbconvert_exporter": "python",
   "pygments_lexer": "ipython3",
   "version": "3.7.7"
  },
  "varInspector": {
   "cols": {
    "lenName": 16,
    "lenType": 16,
    "lenVar": 40
   },
   "kernels_config": {
    "python": {
     "delete_cmd_postfix": "",
     "delete_cmd_prefix": "del ",
     "library": "var_list.py",
     "varRefreshCmd": "print(var_dic_list())"
    },
    "r": {
     "delete_cmd_postfix": ") ",
     "delete_cmd_prefix": "rm(",
     "library": "var_list.r",
     "varRefreshCmd": "cat(var_dic_list()) "
    }
   },
   "types_to_exclude": [
    "module",
    "function",
    "builtin_function_or_method",
    "instance",
    "_Feature"
   ],
   "window_display": false
  }
 },
 "nbformat": 4,
 "nbformat_minor": 4
}
