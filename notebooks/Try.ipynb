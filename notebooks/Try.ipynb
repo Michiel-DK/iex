{
 "cells": [
  {
   "cell_type": "code",
   "execution_count": 1,
   "metadata": {},
   "outputs": [],
   "source": [
    "from iexfinance.stocks import Stock\n",
    "import requests\n",
    "import urllib.parse\n",
    "import requests\n",
    "import pandas as pd\n",
    "import datetime\n",
    "import matplotlib.pyplot as plt\n",
    "import time"
   ]
  },
  {
   "cell_type": "code",
   "execution_count": 3,
   "metadata": {},
   "outputs": [],
   "source": [
    "symbol = \"ADBE\""
   ]
  },
  {
   "cell_type": "code",
   "execution_count": 4,
   "metadata": {},
   "outputs": [],
   "source": [
    "period = 'quarter'\n",
    "time = '12'"
   ]
  },
  {
   "cell_type": "code",
   "execution_count": 5,
   "metadata": {},
   "outputs": [],
   "source": [
    "BASE_URL = 'https://cloud.iexapis.com/stable/'\n",
    "endpoint = f\"stock/{symbol}/financials/\""
   ]
  },
  {
   "cell_type": "code",
   "execution_count": 6,
   "metadata": {},
   "outputs": [],
   "source": [
    "url = urllib.parse.urljoin(BASE_URL, endpoint)"
   ]
  },
  {
   "cell_type": "code",
   "execution_count": 7,
   "metadata": {},
   "outputs": [],
   "source": [
    "#Query String Parameters: token=YOUR_TOKEN_HERE&period={} "
   ]
  },
  {
   "cell_type": "code",
   "execution_count": 8,
   "metadata": {},
   "outputs": [
    {
     "data": {
      "text/plain": [
       "'https://cloud.iexapis.com/stable/stock/ADBE/financials/'"
      ]
     },
     "execution_count": 8,
     "metadata": {},
     "output_type": "execute_result"
    }
   ],
   "source": [
    "url"
   ]
  },
  {
   "cell_type": "code",
   "execution_count": null,
   "metadata": {},
   "outputs": [],
   "source": [
    "import os\n",
    "token = os.environ['SANDBOX_TOKEN']"
   ]
  },
  {
   "cell_type": "code",
   "execution_count": 9,
   "metadata": {},
   "outputs": [],
   "source": [
    "adbe = pd.DataFrame(requests.get(f'https://sandbox.iexapis.com/stable/time-series/REPORTED_FINANCIALS/ADBE/10-K?from=2010-01-01&limit=10&token={token}').json())"
   ]
  },
  {
   "cell_type": "code",
   "execution_count": 10,
   "metadata": {},
   "outputs": [
    {
     "data": {
      "text/html": [
       "<div>\n",
       "<style scoped>\n",
       "    .dataframe tbody tr th:only-of-type {\n",
       "        vertical-align: middle;\n",
       "    }\n",
       "\n",
       "    .dataframe tbody tr th {\n",
       "        vertical-align: top;\n",
       "    }\n",
       "\n",
       "    .dataframe thead th {\n",
       "        text-align: right;\n",
       "    }\n",
       "</style>\n",
       "<table border=\"1\" class=\"dataframe\">\n",
       "  <thead>\n",
       "    <tr style=\"text-align: right;\">\n",
       "      <th></th>\n",
       "      <th>AccountsPayableCurrent</th>\n",
       "      <th>AccountsReceivableNetCurrent</th>\n",
       "      <th>AccruedIncomeTaxesCurrent</th>\n",
       "      <th>AccruedLiabilitiesCurrent</th>\n",
       "      <th>AccruedRestructuringExpensesCurrent</th>\n",
       "      <th>AccruedRestructuringExpensesNoncurrent</th>\n",
       "      <th>AccumulatedOtherComprehensiveIncomeLossNetOfTax</th>\n",
       "      <th>AdditionalPaidInCapital</th>\n",
       "      <th>AdjustmentToValuationOfAssumedOptions</th>\n",
       "      <th>AdjustmentsNoncashItemsToReconcileNetIncomeLossToCashProvidedByUsedInOperatingActivitiesOther</th>\n",
       "      <th>...</th>\n",
       "      <th>TaxCutsandJobsActonetimetransitiontax</th>\n",
       "      <th>TaxchargeduetoTaxCutsandJobsAct</th>\n",
       "      <th>TransitiontaxexpenseoflongtermincometaxespayableduetotheTaxCutsandJobsAct</th>\n",
       "      <th>TransitiontaxexpenseondeferredforeignearningsduetoTaxCutsandJobsAct</th>\n",
       "      <th>TransitiontaxexpenseonothertaxliabilitiesduetoTaxCutsandJobsAct</th>\n",
       "      <th>TreasuryStockSharesAcquired</th>\n",
       "      <th>USFederalstatutorytaxrateeffectiveaftertheTaxCutsandJobsAct</th>\n",
       "      <th>USFederalstatutorytaxrateeffectivebeforetheTaxCutsandJobsAct</th>\n",
       "      <th>UnrealizedGainsonAvailableforSaleSecuritiesNetofTax</th>\n",
       "      <th>UnrealizedLossesonAvailableforSaleSecuritiesNetofTax</th>\n",
       "    </tr>\n",
       "  </thead>\n",
       "  <tbody>\n",
       "    <tr>\n",
       "      <th>0</th>\n",
       "      <td>60140339</td>\n",
       "      <td>412823480</td>\n",
       "      <td>48427154</td>\n",
       "      <td>430514810</td>\n",
       "      <td>38800255.0</td>\n",
       "      <td>6936183.0</td>\n",
       "      <td>24934912</td>\n",
       "      <td>2483714665</td>\n",
       "      <td>-30066646.0</td>\n",
       "      <td>4437634.0</td>\n",
       "      <td>...</td>\n",
       "      <td>NaN</td>\n",
       "      <td>NaN</td>\n",
       "      <td>NaN</td>\n",
       "      <td>NaN</td>\n",
       "      <td>NaN</td>\n",
       "      <td>NaN</td>\n",
       "      <td>NaN</td>\n",
       "      <td>NaN</td>\n",
       "      <td>NaN</td>\n",
       "      <td>NaN</td>\n",
       "    </tr>\n",
       "    <tr>\n",
       "      <th>1</th>\n",
       "      <td>54882381</td>\n",
       "      <td>563540701</td>\n",
       "      <td>53881183</td>\n",
       "      <td>565123108</td>\n",
       "      <td>8475796.0</td>\n",
       "      <td>8360685.0</td>\n",
       "      <td>17796956</td>\n",
       "      <td>2500334409</td>\n",
       "      <td>NaN</td>\n",
       "      <td>3369101.0</td>\n",
       "      <td>...</td>\n",
       "      <td>NaN</td>\n",
       "      <td>NaN</td>\n",
       "      <td>NaN</td>\n",
       "      <td>NaN</td>\n",
       "      <td>NaN</td>\n",
       "      <td>NaN</td>\n",
       "      <td>NaN</td>\n",
       "      <td>NaN</td>\n",
       "      <td>NaN</td>\n",
       "      <td>NaN</td>\n",
       "    </tr>\n",
       "    <tr>\n",
       "      <th>2</th>\n",
       "      <td>87952043</td>\n",
       "      <td>662825031</td>\n",
       "      <td>42845702</td>\n",
       "      <td>569184330</td>\n",
       "      <td>NaN</td>\n",
       "      <td>NaN</td>\n",
       "      <td>31152029</td>\n",
       "      <td>2873678462</td>\n",
       "      <td>NaN</td>\n",
       "      <td>NaN</td>\n",
       "      <td>...</td>\n",
       "      <td>NaN</td>\n",
       "      <td>NaN</td>\n",
       "      <td>NaN</td>\n",
       "      <td>NaN</td>\n",
       "      <td>NaN</td>\n",
       "      <td>NaN</td>\n",
       "      <td>NaN</td>\n",
       "      <td>NaN</td>\n",
       "      <td>NaN</td>\n",
       "      <td>NaN</td>\n",
       "    </tr>\n",
       "    <tr>\n",
       "      <th>3</th>\n",
       "      <td>51499503</td>\n",
       "      <td>635013573</td>\n",
       "      <td>51428664</td>\n",
       "      <td>604635210</td>\n",
       "      <td>NaN</td>\n",
       "      <td>NaN</td>\n",
       "      <td>31849945</td>\n",
       "      <td>3065756649</td>\n",
       "      <td>NaN</td>\n",
       "      <td>NaN</td>\n",
       "      <td>...</td>\n",
       "      <td>NaN</td>\n",
       "      <td>NaN</td>\n",
       "      <td>NaN</td>\n",
       "      <td>NaN</td>\n",
       "      <td>NaN</td>\n",
       "      <td>NaN</td>\n",
       "      <td>NaN</td>\n",
       "      <td>NaN</td>\n",
       "      <td>NaN</td>\n",
       "      <td>NaN</td>\n",
       "    </tr>\n",
       "    <tr>\n",
       "      <th>4</th>\n",
       "      <td>63630853</td>\n",
       "      <td>605923925</td>\n",
       "      <td>10304919</td>\n",
       "      <td>683625981</td>\n",
       "      <td>NaN</td>\n",
       "      <td>NaN</td>\n",
       "      <td>47213738</td>\n",
       "      <td>3483932020</td>\n",
       "      <td>NaN</td>\n",
       "      <td>NaN</td>\n",
       "      <td>...</td>\n",
       "      <td>NaN</td>\n",
       "      <td>NaN</td>\n",
       "      <td>NaN</td>\n",
       "      <td>NaN</td>\n",
       "      <td>NaN</td>\n",
       "      <td>NaN</td>\n",
       "      <td>NaN</td>\n",
       "      <td>NaN</td>\n",
       "      <td>NaN</td>\n",
       "      <td>NaN</td>\n",
       "    </tr>\n",
       "  </tbody>\n",
       "</table>\n",
       "<p>5 rows × 612 columns</p>\n",
       "</div>"
      ],
      "text/plain": [
       "   AccountsPayableCurrent  AccountsReceivableNetCurrent  \\\n",
       "0                60140339                     412823480   \n",
       "1                54882381                     563540701   \n",
       "2                87952043                     662825031   \n",
       "3                51499503                     635013573   \n",
       "4                63630853                     605923925   \n",
       "\n",
       "   AccruedIncomeTaxesCurrent  AccruedLiabilitiesCurrent  \\\n",
       "0                   48427154                  430514810   \n",
       "1                   53881183                  565123108   \n",
       "2                   42845702                  569184330   \n",
       "3                   51428664                  604635210   \n",
       "4                   10304919                  683625981   \n",
       "\n",
       "   AccruedRestructuringExpensesCurrent  \\\n",
       "0                           38800255.0   \n",
       "1                            8475796.0   \n",
       "2                                  NaN   \n",
       "3                                  NaN   \n",
       "4                                  NaN   \n",
       "\n",
       "   AccruedRestructuringExpensesNoncurrent  \\\n",
       "0                               6936183.0   \n",
       "1                               8360685.0   \n",
       "2                                     NaN   \n",
       "3                                     NaN   \n",
       "4                                     NaN   \n",
       "\n",
       "   AccumulatedOtherComprehensiveIncomeLossNetOfTax  AdditionalPaidInCapital  \\\n",
       "0                                         24934912               2483714665   \n",
       "1                                         17796956               2500334409   \n",
       "2                                         31152029               2873678462   \n",
       "3                                         31849945               3065756649   \n",
       "4                                         47213738               3483932020   \n",
       "\n",
       "   AdjustmentToValuationOfAssumedOptions  \\\n",
       "0                            -30066646.0   \n",
       "1                                    NaN   \n",
       "2                                    NaN   \n",
       "3                                    NaN   \n",
       "4                                    NaN   \n",
       "\n",
       "   AdjustmentsNoncashItemsToReconcileNetIncomeLossToCashProvidedByUsedInOperatingActivitiesOther  \\\n",
       "0                                          4437634.0                                               \n",
       "1                                          3369101.0                                               \n",
       "2                                                NaN                                               \n",
       "3                                                NaN                                               \n",
       "4                                                NaN                                               \n",
       "\n",
       "   ...  TaxCutsandJobsActonetimetransitiontax  \\\n",
       "0  ...                                    NaN   \n",
       "1  ...                                    NaN   \n",
       "2  ...                                    NaN   \n",
       "3  ...                                    NaN   \n",
       "4  ...                                    NaN   \n",
       "\n",
       "   TaxchargeduetoTaxCutsandJobsAct  \\\n",
       "0                              NaN   \n",
       "1                              NaN   \n",
       "2                              NaN   \n",
       "3                              NaN   \n",
       "4                              NaN   \n",
       "\n",
       "   TransitiontaxexpenseoflongtermincometaxespayableduetotheTaxCutsandJobsAct  \\\n",
       "0                                                NaN                           \n",
       "1                                                NaN                           \n",
       "2                                                NaN                           \n",
       "3                                                NaN                           \n",
       "4                                                NaN                           \n",
       "\n",
       "   TransitiontaxexpenseondeferredforeignearningsduetoTaxCutsandJobsAct  \\\n",
       "0                                                NaN                     \n",
       "1                                                NaN                     \n",
       "2                                                NaN                     \n",
       "3                                                NaN                     \n",
       "4                                                NaN                     \n",
       "\n",
       "   TransitiontaxexpenseonothertaxliabilitiesduetoTaxCutsandJobsAct  \\\n",
       "0                                                NaN                 \n",
       "1                                                NaN                 \n",
       "2                                                NaN                 \n",
       "3                                                NaN                 \n",
       "4                                                NaN                 \n",
       "\n",
       "   TreasuryStockSharesAcquired  \\\n",
       "0                          NaN   \n",
       "1                          NaN   \n",
       "2                          NaN   \n",
       "3                          NaN   \n",
       "4                          NaN   \n",
       "\n",
       "   USFederalstatutorytaxrateeffectiveaftertheTaxCutsandJobsAct  \\\n",
       "0                                                NaN             \n",
       "1                                                NaN             \n",
       "2                                                NaN             \n",
       "3                                                NaN             \n",
       "4                                                NaN             \n",
       "\n",
       "   USFederalstatutorytaxrateeffectivebeforetheTaxCutsandJobsAct  \\\n",
       "0                                                NaN              \n",
       "1                                                NaN              \n",
       "2                                                NaN              \n",
       "3                                                NaN              \n",
       "4                                                NaN              \n",
       "\n",
       "   UnrealizedGainsonAvailableforSaleSecuritiesNetofTax  \\\n",
       "0                                                NaN     \n",
       "1                                                NaN     \n",
       "2                                                NaN     \n",
       "3                                                NaN     \n",
       "4                                                NaN     \n",
       "\n",
       "   UnrealizedLossesonAvailableforSaleSecuritiesNetofTax  \n",
       "0                                                NaN     \n",
       "1                                                NaN     \n",
       "2                                                NaN     \n",
       "3                                                NaN     \n",
       "4                                                NaN     \n",
       "\n",
       "[5 rows x 612 columns]"
      ]
     },
     "execution_count": 10,
     "metadata": {},
     "output_type": "execute_result"
    }
   ],
   "source": [
    "adbe.head()"
   ]
  },
  {
   "cell_type": "code",
   "execution_count": 15,
   "metadata": {},
   "outputs": [
    {
     "ename": "AttributeError",
     "evalue": "'str' object has no attribute 'strftime'",
     "output_type": "error",
     "traceback": [
      "\u001b[0;31m---------------------------------------------------------------------------\u001b[0m",
      "\u001b[0;31mAttributeError\u001b[0m                            Traceback (most recent call last)",
      "\u001b[0;32m<ipython-input-15-5cc116840a4a>\u001b[0m in \u001b[0;36m<module>\u001b[0;34m\u001b[0m\n\u001b[1;32m      1\u001b[0m \u001b[0;31m## Add quarter\u001b[0m\u001b[0;34m\u001b[0m\u001b[0;34m\u001b[0m\u001b[0;34m\u001b[0m\u001b[0m\n\u001b[0;32m----> 2\u001b[0;31m \u001b[0madbe\u001b[0m\u001b[0;34m[\u001b[0m\u001b[0;34m'quarter'\u001b[0m\u001b[0;34m]\u001b[0m \u001b[0;34m=\u001b[0m \u001b[0madbe\u001b[0m\u001b[0;34m[\u001b[0m\u001b[0;34m'periodEnd'\u001b[0m\u001b[0;34m]\u001b[0m\u001b[0;34m.\u001b[0m\u001b[0mapply\u001b[0m\u001b[0;34m(\u001b[0m\u001b[0;32mlambda\u001b[0m \u001b[0mx\u001b[0m\u001b[0;34m:\u001b[0m \u001b[0mtime\u001b[0m\u001b[0;34m.\u001b[0m\u001b[0mstrftime\u001b[0m\u001b[0;34m(\u001b[0m\u001b[0;34m'%m/%Y'\u001b[0m\u001b[0;34m,\u001b[0m  \u001b[0mtime\u001b[0m\u001b[0;34m.\u001b[0m\u001b[0mgmtime\u001b[0m\u001b[0;34m(\u001b[0m\u001b[0mx\u001b[0m\u001b[0;34m/\u001b[0m\u001b[0;36m1000\u001b[0m\u001b[0;34m)\u001b[0m\u001b[0;34m)\u001b[0m\u001b[0;34m)\u001b[0m\u001b[0;34m\u001b[0m\u001b[0;34m\u001b[0m\u001b[0m\n\u001b[0m",
      "\u001b[0;32m~/.pyenv/versions/3.7.7/envs/lewagon/lib/python3.7/site-packages/pandas/core/series.py\u001b[0m in \u001b[0;36mapply\u001b[0;34m(self, func, convert_dtype, args, **kwds)\u001b[0m\n\u001b[1;32m   4106\u001b[0m             \u001b[0;32melse\u001b[0m\u001b[0;34m:\u001b[0m\u001b[0;34m\u001b[0m\u001b[0;34m\u001b[0m\u001b[0m\n\u001b[1;32m   4107\u001b[0m                 \u001b[0mvalues\u001b[0m \u001b[0;34m=\u001b[0m \u001b[0mself\u001b[0m\u001b[0;34m.\u001b[0m\u001b[0mastype\u001b[0m\u001b[0;34m(\u001b[0m\u001b[0mobject\u001b[0m\u001b[0;34m)\u001b[0m\u001b[0;34m.\u001b[0m\u001b[0m_values\u001b[0m\u001b[0;34m\u001b[0m\u001b[0;34m\u001b[0m\u001b[0m\n\u001b[0;32m-> 4108\u001b[0;31m                 \u001b[0mmapped\u001b[0m \u001b[0;34m=\u001b[0m \u001b[0mlib\u001b[0m\u001b[0;34m.\u001b[0m\u001b[0mmap_infer\u001b[0m\u001b[0;34m(\u001b[0m\u001b[0mvalues\u001b[0m\u001b[0;34m,\u001b[0m \u001b[0mf\u001b[0m\u001b[0;34m,\u001b[0m \u001b[0mconvert\u001b[0m\u001b[0;34m=\u001b[0m\u001b[0mconvert_dtype\u001b[0m\u001b[0;34m)\u001b[0m\u001b[0;34m\u001b[0m\u001b[0;34m\u001b[0m\u001b[0m\n\u001b[0m\u001b[1;32m   4109\u001b[0m \u001b[0;34m\u001b[0m\u001b[0m\n\u001b[1;32m   4110\u001b[0m         \u001b[0;32mif\u001b[0m \u001b[0mlen\u001b[0m\u001b[0;34m(\u001b[0m\u001b[0mmapped\u001b[0m\u001b[0;34m)\u001b[0m \u001b[0;32mand\u001b[0m \u001b[0misinstance\u001b[0m\u001b[0;34m(\u001b[0m\u001b[0mmapped\u001b[0m\u001b[0;34m[\u001b[0m\u001b[0;36m0\u001b[0m\u001b[0;34m]\u001b[0m\u001b[0;34m,\u001b[0m \u001b[0mSeries\u001b[0m\u001b[0;34m)\u001b[0m\u001b[0;34m:\u001b[0m\u001b[0;34m\u001b[0m\u001b[0;34m\u001b[0m\u001b[0m\n",
      "\u001b[0;32mpandas/_libs/lib.pyx\u001b[0m in \u001b[0;36mpandas._libs.lib.map_infer\u001b[0;34m()\u001b[0m\n",
      "\u001b[0;32m<ipython-input-15-5cc116840a4a>\u001b[0m in \u001b[0;36m<lambda>\u001b[0;34m(x)\u001b[0m\n\u001b[1;32m      1\u001b[0m \u001b[0;31m## Add quarter\u001b[0m\u001b[0;34m\u001b[0m\u001b[0;34m\u001b[0m\u001b[0;34m\u001b[0m\u001b[0m\n\u001b[0;32m----> 2\u001b[0;31m \u001b[0madbe\u001b[0m\u001b[0;34m[\u001b[0m\u001b[0;34m'quarter'\u001b[0m\u001b[0;34m]\u001b[0m \u001b[0;34m=\u001b[0m \u001b[0madbe\u001b[0m\u001b[0;34m[\u001b[0m\u001b[0;34m'periodEnd'\u001b[0m\u001b[0;34m]\u001b[0m\u001b[0;34m.\u001b[0m\u001b[0mapply\u001b[0m\u001b[0;34m(\u001b[0m\u001b[0;32mlambda\u001b[0m \u001b[0mx\u001b[0m\u001b[0;34m:\u001b[0m \u001b[0mtime\u001b[0m\u001b[0;34m.\u001b[0m\u001b[0mstrftime\u001b[0m\u001b[0;34m(\u001b[0m\u001b[0;34m'%m/%Y'\u001b[0m\u001b[0;34m,\u001b[0m  \u001b[0mtime\u001b[0m\u001b[0;34m.\u001b[0m\u001b[0mgmtime\u001b[0m\u001b[0;34m(\u001b[0m\u001b[0mx\u001b[0m\u001b[0;34m/\u001b[0m\u001b[0;36m1000\u001b[0m\u001b[0;34m)\u001b[0m\u001b[0;34m)\u001b[0m\u001b[0;34m)\u001b[0m\u001b[0;34m\u001b[0m\u001b[0;34m\u001b[0m\u001b[0m\n\u001b[0m",
      "\u001b[0;31mAttributeError\u001b[0m: 'str' object has no attribute 'strftime'"
     ]
    }
   ],
   "source": [
    "## Add quarter\n",
    "adbe['quarter'] = adbe['periodEnd'].apply(lambda x: time.strftime('%m/%Y',  time.gmtime(x/1000)))"
   ]
  },
  {
   "cell_type": "code",
   "execution_count": 12,
   "metadata": {},
   "outputs": [],
   "source": [
    "income_json = f'https://sandbox.iexapis.com/stable/stock/{symbol}/income?period={period}&last={time}&token={token}'\n",
    "cash_json = f'https://sandbox.iexapis.com/stable/stock/{symbol}/cash-flow?period={period}&last={time}&token={token}'\n",
    "balance_json = f'https://sandbox.iexapis.com/stable/stock/{symbol}/balance-sheet?period={period}&last={time}&token={token}'\n",
    "financials_json = f\"https://sandbox.iexapis.com/stable/stock/{symbol}/financials?period={period}&last={time}&token={token}\"\n",
    "fundamentals = f\"https://sandbox.iexapis.com/stable/time-series/fundamentals/{symbol}/{period}ly?range={time}q&token={token}\""
   ]
  },
  {
   "cell_type": "code",
   "execution_count": 14,
   "metadata": {},
   "outputs": [],
   "source": [
    "income = pd.DataFrame(requests.get(income_json).json()['income'])\n",
    "cash = pd.DataFrame(requests.get(cash_json).json()['cashflow'])\n",
    "balance = pd.DataFrame(requests.get(balance_json).json()['balancesheet'])"
   ]
  },
  {
   "cell_type": "code",
   "execution_count": 16,
   "metadata": {
    "scrolled": true
   },
   "outputs": [],
   "source": [
    "income = income.set_index(pd.to_datetime(income['fiscalDate'].apply(lambda x: x[:7])))\n",
    "cash = cash.set_index(pd.to_datetime(cash['fiscalDate'].apply(lambda x: x[:7])))\n",
    "balance = balance.set_index(pd.to_datetime(balance['fiscalDate'].apply(lambda x: x[:7])))"
   ]
  },
  {
   "cell_type": "code",
   "execution_count": 17,
   "metadata": {},
   "outputs": [],
   "source": [
    "df = income.merge(cash, left_index=True, right_index=True, suffixes=('_i', '_c'))\n",
    "df = df.merge(balance, left_index=True, right_index=True, suffixes=('', '_b'))\n",
    "df = df.rename(str.lower, axis='columns')"
   ]
  },
  {
   "cell_type": "code",
   "execution_count": 18,
   "metadata": {},
   "outputs": [],
   "source": [
    "df['financial_leverage'] = df['shareholderequity'] / df['totalassets']\n",
    "df['debt_to_equity'] = df['totalliabilities'] / df['shareholderequity']\n",
    "df['current'] = df['currentassets'] / df['totalcurrentliabilities']\n",
    "df['quick'] = (df['currentassets'] + df['inventory']) / df['totalcurrentliabilities']"
   ]
  },
  {
   "cell_type": "code",
   "execution_count": 19,
   "metadata": {},
   "outputs": [],
   "source": [
    "df['netmargin'] = df['netincome_c'] / df['totalrevenue']\n",
    "df['asset_turnover'] = df['totalrevenue'] / df['totalassets']\n",
    "df['cash_operations'] = df['netincome_c'] / df['totalrevenue']\n",
    "df['roa'] = df['cash_operations'] * df['asset_turnover']\n",
    "df['roe'] = df['netmargin'] * df['asset_turnover'] * df['financial_leverage']\n",
    "df['operating_margin'] = df['cashflow'] / df['totalrevenue']\n",
    "df[\"fcf\"] = df['cashflow'] + df['capitalexpenditures']\n",
    "df['levered_fcf'] = df['fcf'] / df['totalrevenue']\n",
    "df['overhead/revenue'] = df['sellinggeneralandadmin'] / df['totalrevenue']"
   ]
  },
  {
   "cell_type": "code",
   "execution_count": 20,
   "metadata": {},
   "outputs": [
    {
     "data": {
      "text/html": [
       "<div>\n",
       "<style scoped>\n",
       "    .dataframe tbody tr th:only-of-type {\n",
       "        vertical-align: middle;\n",
       "    }\n",
       "\n",
       "    .dataframe tbody tr th {\n",
       "        vertical-align: top;\n",
       "    }\n",
       "\n",
       "    .dataframe thead th {\n",
       "        text-align: right;\n",
       "    }\n",
       "</style>\n",
       "<table border=\"1\" class=\"dataframe\">\n",
       "  <thead>\n",
       "    <tr style=\"text-align: right;\">\n",
       "      <th></th>\n",
       "      <th>netmargin</th>\n",
       "      <th>asset_turnover</th>\n",
       "      <th>cash_operations</th>\n",
       "      <th>roa</th>\n",
       "      <th>roe</th>\n",
       "      <th>operating_margin</th>\n",
       "      <th>fcf</th>\n",
       "      <th>levered_fcf</th>\n",
       "      <th>overhead/revenue</th>\n",
       "      <th>financial_leverage</th>\n",
       "      <th>debt_to_equity</th>\n",
       "      <th>current</th>\n",
       "      <th>quick</th>\n",
       "    </tr>\n",
       "    <tr>\n",
       "      <th>fiscalDate</th>\n",
       "      <th></th>\n",
       "      <th></th>\n",
       "      <th></th>\n",
       "      <th></th>\n",
       "      <th></th>\n",
       "      <th></th>\n",
       "      <th></th>\n",
       "      <th></th>\n",
       "      <th></th>\n",
       "      <th></th>\n",
       "      <th></th>\n",
       "      <th></th>\n",
       "      <th></th>\n",
       "    </tr>\n",
       "  </thead>\n",
       "  <tbody>\n",
       "    <tr>\n",
       "      <th>2020-11-01</th>\n",
       "      <td>0.674051</td>\n",
       "      <td>0.136643</td>\n",
       "      <td>0.674051</td>\n",
       "      <td>0.092104</td>\n",
       "      <td>0.050638</td>\n",
       "      <td>1.677221</td>\n",
       "      <td>5322696675</td>\n",
       "      <td>1.549633</td>\n",
       "      <td>0.361273</td>\n",
       "      <td>0.549787</td>\n",
       "      <td>0.798120</td>\n",
       "      <td>1.433542</td>\n",
       "      <td>1.433542</td>\n",
       "    </tr>\n",
       "    <tr>\n",
       "      <th>2020-08-01</th>\n",
       "      <td>0.296759</td>\n",
       "      <td>0.143437</td>\n",
       "      <td>0.296759</td>\n",
       "      <td>0.042566</td>\n",
       "      <td>0.022426</td>\n",
       "      <td>1.258315</td>\n",
       "      <td>3748419087</td>\n",
       "      <td>1.160216</td>\n",
       "      <td>0.361017</td>\n",
       "      <td>0.526849</td>\n",
       "      <td>0.940217</td>\n",
       "      <td>1.452680</td>\n",
       "      <td>1.452680</td>\n",
       "    </tr>\n",
       "    <tr>\n",
       "      <th>2020-05-01</th>\n",
       "      <td>0.347720</td>\n",
       "      <td>0.148267</td>\n",
       "      <td>0.347720</td>\n",
       "      <td>0.051556</td>\n",
       "      <td>0.026940</td>\n",
       "      <td>0.000810</td>\n",
       "      <td>2422546</td>\n",
       "      <td>0.000749</td>\n",
       "      <td>0.349796</td>\n",
       "      <td>0.522549</td>\n",
       "      <td>0.949063</td>\n",
       "      <td>1.263474</td>\n",
       "      <td>1.263474</td>\n",
       "    </tr>\n",
       "    <tr>\n",
       "      <th>2020-02-01</th>\n",
       "      <td>0.312060</td>\n",
       "      <td>0.149076</td>\n",
       "      <td>0.312060</td>\n",
       "      <td>0.046521</td>\n",
       "      <td>0.023406</td>\n",
       "      <td>0.000436</td>\n",
       "      <td>1289005</td>\n",
       "      <td>0.000406</td>\n",
       "      <td>0.358057</td>\n",
       "      <td>0.503134</td>\n",
       "      <td>1.048373</td>\n",
       "      <td>1.215088</td>\n",
       "      <td>1.215088</td>\n",
       "    </tr>\n",
       "    <tr>\n",
       "      <th>2019-11-01</th>\n",
       "      <td>0.280158</td>\n",
       "      <td>0.141663</td>\n",
       "      <td>0.280158</td>\n",
       "      <td>0.039688</td>\n",
       "      <td>0.019369</td>\n",
       "      <td>1.501506</td>\n",
       "      <td>4218873746</td>\n",
       "      <td>1.370340</td>\n",
       "      <td>0.340121</td>\n",
       "      <td>0.488018</td>\n",
       "      <td>1.005252</td>\n",
       "      <td>0.792521</td>\n",
       "      <td>0.792521</td>\n",
       "    </tr>\n",
       "    <tr>\n",
       "      <th>2019-08-01</th>\n",
       "      <td>0.281649</td>\n",
       "      <td>0.137579</td>\n",
       "      <td>0.281649</td>\n",
       "      <td>0.038749</td>\n",
       "      <td>0.019137</td>\n",
       "      <td>1.160445</td>\n",
       "      <td>3037840367</td>\n",
       "      <td>1.056699</td>\n",
       "      <td>0.374748</td>\n",
       "      <td>0.493873</td>\n",
       "      <td>0.955530</td>\n",
       "      <td>0.755410</td>\n",
       "      <td>0.755410</td>\n",
       "    </tr>\n",
       "    <tr>\n",
       "      <th>2019-05-01</th>\n",
       "      <td>0.225639</td>\n",
       "      <td>0.140871</td>\n",
       "      <td>0.225639</td>\n",
       "      <td>0.031786</td>\n",
       "      <td>0.015954</td>\n",
       "      <td>0.805079</td>\n",
       "      <td>2078408269</td>\n",
       "      <td>0.734785</td>\n",
       "      <td>0.389800</td>\n",
       "      <td>0.501921</td>\n",
       "      <td>0.996810</td>\n",
       "      <td>0.714257</td>\n",
       "      <td>0.714257</td>\n",
       "    </tr>\n",
       "    <tr>\n",
       "      <th>2019-02-01</th>\n",
       "      <td>0.253213</td>\n",
       "      <td>0.136519</td>\n",
       "      <td>0.253213</td>\n",
       "      <td>0.034568</td>\n",
       "      <td>0.017891</td>\n",
       "      <td>0.434301</td>\n",
       "      <td>1060077045</td>\n",
       "      <td>0.397198</td>\n",
       "      <td>0.374082</td>\n",
       "      <td>0.517561</td>\n",
       "      <td>0.976143</td>\n",
       "      <td>0.976044</td>\n",
       "      <td>0.976044</td>\n",
       "    </tr>\n",
       "    <tr>\n",
       "      <th>2018-11-01</th>\n",
       "      <td>0.278735</td>\n",
       "      <td>0.129185</td>\n",
       "      <td>0.278735</td>\n",
       "      <td>0.036008</td>\n",
       "      <td>0.018258</td>\n",
       "      <td>1.652009</td>\n",
       "      <td>3833669882</td>\n",
       "      <td>1.543576</td>\n",
       "      <td>0.381222</td>\n",
       "      <td>0.507045</td>\n",
       "      <td>0.999746</td>\n",
       "      <td>1.140674</td>\n",
       "      <td>1.140674</td>\n",
       "    </tr>\n",
       "    <tr>\n",
       "      <th>2018-08-01</th>\n",
       "      <td>0.292427</td>\n",
       "      <td>0.148071</td>\n",
       "      <td>0.292427</td>\n",
       "      <td>0.043300</td>\n",
       "      <td>0.024935</td>\n",
       "      <td>1.344861</td>\n",
       "      <td>2966923144</td>\n",
       "      <td>1.259083</td>\n",
       "      <td>0.374707</td>\n",
       "      <td>0.575876</td>\n",
       "      <td>0.721832</td>\n",
       "      <td>1.718802</td>\n",
       "      <td>1.718802</td>\n",
       "    </tr>\n",
       "    <tr>\n",
       "      <th>2018-05-01</th>\n",
       "      <td>0.310370</td>\n",
       "      <td>0.142113</td>\n",
       "      <td>0.310370</td>\n",
       "      <td>0.044108</td>\n",
       "      <td>0.025602</td>\n",
       "      <td>0.920558</td>\n",
       "      <td>1887212397</td>\n",
       "      <td>0.859078</td>\n",
       "      <td>0.392066</td>\n",
       "      <td>0.580451</td>\n",
       "      <td>0.726224</td>\n",
       "      <td>2.084443</td>\n",
       "      <td>2.084443</td>\n",
       "    </tr>\n",
       "    <tr>\n",
       "      <th>2018-02-01</th>\n",
       "      <td>0.282815</td>\n",
       "      <td>0.139901</td>\n",
       "      <td>0.282815</td>\n",
       "      <td>0.039566</td>\n",
       "      <td>0.022895</td>\n",
       "      <td>0.489355</td>\n",
       "      <td>981288929</td>\n",
       "      <td>0.458188</td>\n",
       "      <td>0.368215</td>\n",
       "      <td>0.578665</td>\n",
       "      <td>0.715881</td>\n",
       "      <td>2.113353</td>\n",
       "      <td>2.113353</td>\n",
       "    </tr>\n",
       "  </tbody>\n",
       "</table>\n",
       "</div>"
      ],
      "text/plain": [
       "            netmargin  asset_turnover  cash_operations       roa       roe  \\\n",
       "fiscalDate                                                                   \n",
       "2020-11-01   0.674051        0.136643         0.674051  0.092104  0.050638   \n",
       "2020-08-01   0.296759        0.143437         0.296759  0.042566  0.022426   \n",
       "2020-05-01   0.347720        0.148267         0.347720  0.051556  0.026940   \n",
       "2020-02-01   0.312060        0.149076         0.312060  0.046521  0.023406   \n",
       "2019-11-01   0.280158        0.141663         0.280158  0.039688  0.019369   \n",
       "2019-08-01   0.281649        0.137579         0.281649  0.038749  0.019137   \n",
       "2019-05-01   0.225639        0.140871         0.225639  0.031786  0.015954   \n",
       "2019-02-01   0.253213        0.136519         0.253213  0.034568  0.017891   \n",
       "2018-11-01   0.278735        0.129185         0.278735  0.036008  0.018258   \n",
       "2018-08-01   0.292427        0.148071         0.292427  0.043300  0.024935   \n",
       "2018-05-01   0.310370        0.142113         0.310370  0.044108  0.025602   \n",
       "2018-02-01   0.282815        0.139901         0.282815  0.039566  0.022895   \n",
       "\n",
       "            operating_margin         fcf  levered_fcf  overhead/revenue  \\\n",
       "fiscalDate                                                                \n",
       "2020-11-01          1.677221  5322696675     1.549633          0.361273   \n",
       "2020-08-01          1.258315  3748419087     1.160216          0.361017   \n",
       "2020-05-01          0.000810     2422546     0.000749          0.349796   \n",
       "2020-02-01          0.000436     1289005     0.000406          0.358057   \n",
       "2019-11-01          1.501506  4218873746     1.370340          0.340121   \n",
       "2019-08-01          1.160445  3037840367     1.056699          0.374748   \n",
       "2019-05-01          0.805079  2078408269     0.734785          0.389800   \n",
       "2019-02-01          0.434301  1060077045     0.397198          0.374082   \n",
       "2018-11-01          1.652009  3833669882     1.543576          0.381222   \n",
       "2018-08-01          1.344861  2966923144     1.259083          0.374707   \n",
       "2018-05-01          0.920558  1887212397     0.859078          0.392066   \n",
       "2018-02-01          0.489355   981288929     0.458188          0.368215   \n",
       "\n",
       "            financial_leverage  debt_to_equity   current     quick  \n",
       "fiscalDate                                                          \n",
       "2020-11-01            0.549787        0.798120  1.433542  1.433542  \n",
       "2020-08-01            0.526849        0.940217  1.452680  1.452680  \n",
       "2020-05-01            0.522549        0.949063  1.263474  1.263474  \n",
       "2020-02-01            0.503134        1.048373  1.215088  1.215088  \n",
       "2019-11-01            0.488018        1.005252  0.792521  0.792521  \n",
       "2019-08-01            0.493873        0.955530  0.755410  0.755410  \n",
       "2019-05-01            0.501921        0.996810  0.714257  0.714257  \n",
       "2019-02-01            0.517561        0.976143  0.976044  0.976044  \n",
       "2018-11-01            0.507045        0.999746  1.140674  1.140674  \n",
       "2018-08-01            0.575876        0.721832  1.718802  1.718802  \n",
       "2018-05-01            0.580451        0.726224  2.084443  2.084443  \n",
       "2018-02-01            0.578665        0.715881  2.113353  2.113353  "
      ]
     },
     "execution_count": 20,
     "metadata": {},
     "output_type": "execute_result"
    }
   ],
   "source": [
    "df[['netmargin','asset_turnover','cash_operations','roa','roe','operating_margin',\"fcf\",'levered_fcf','overhead/revenue','financial_leverage','debt_to_equity','current','quick']]"
   ]
  },
  {
   "cell_type": "code",
   "execution_count": 21,
   "metadata": {},
   "outputs": [
    {
     "data": {
      "text/plain": [
       "fiscalDate\n",
       "2020-11-01   -438239042\n",
       "2020-08-01   -316937195\n",
       "2020-05-01      -197837\n",
       "2020-02-01       -97498\n",
       "2019-11-01   -403821592\n",
       "2019-08-01   -298251100\n",
       "2019-05-01   -198832010\n",
       "2019-02-01    -99024205\n",
       "2018-11-01   -269308183\n",
       "2018-08-01   -202129112\n",
       "2018-05-01   -135057436\n",
       "2018-02-01    -66748601\n",
       "Name: capitalexpenditures, dtype: int64"
      ]
     },
     "execution_count": 21,
     "metadata": {},
     "output_type": "execute_result"
    }
   ],
   "source": [
    "df['capitalexpenditures']"
   ]
  },
  {
   "cell_type": "code",
   "execution_count": 22,
   "metadata": {},
   "outputs": [],
   "source": [
    " url_adv_f = f\"https://sandbox.iexapis.com/stable/time-series/fundamentals/{symbol}/annual?last=4&token=Tsk_910a8ace8ad14af698bc4a65be1a4219\""
   ]
  },
  {
   "cell_type": "code",
   "execution_count": 23,
   "metadata": {},
   "outputs": [],
   "source": [
    "adbe_adv = pd.DataFrame(requests.get(url_adv_f).json())"
   ]
  },
  {
   "cell_type": "code",
   "execution_count": 24,
   "metadata": {},
   "outputs": [
    {
     "data": {
      "text/html": [
       "<div>\n",
       "<style scoped>\n",
       "    .dataframe tbody tr th:only-of-type {\n",
       "        vertical-align: middle;\n",
       "    }\n",
       "\n",
       "    .dataframe tbody tr th {\n",
       "        vertical-align: top;\n",
       "    }\n",
       "\n",
       "    .dataframe thead th {\n",
       "        text-align: right;\n",
       "    }\n",
       "</style>\n",
       "<table border=\"1\" class=\"dataframe\">\n",
       "  <thead>\n",
       "    <tr style=\"text-align: right;\">\n",
       "      <th></th>\n",
       "      <th>accountsPayable</th>\n",
       "      <th>accountsPayableTurnover</th>\n",
       "      <th>accountsReceivable</th>\n",
       "      <th>accountsReceivableTurnover</th>\n",
       "      <th>asOfDate</th>\n",
       "      <th>assetsCurrentCash</th>\n",
       "      <th>assetsCurrentCashRestricted</th>\n",
       "      <th>assetsCurrentDeferredCompensation</th>\n",
       "      <th>assetsCurrentDeferredTax</th>\n",
       "      <th>assetsCurrentDiscontinuedOperations</th>\n",
       "      <th>...</th>\n",
       "      <th>stockTreasury</th>\n",
       "      <th>symbol</th>\n",
       "      <th>wabso</th>\n",
       "      <th>wabsoSplitAdjusted</th>\n",
       "      <th>wadso</th>\n",
       "      <th>wadsoSplitAdjusted</th>\n",
       "      <th>id</th>\n",
       "      <th>key</th>\n",
       "      <th>subkey</th>\n",
       "      <th>updated</th>\n",
       "    </tr>\n",
       "  </thead>\n",
       "  <tbody>\n",
       "    <tr>\n",
       "      <th>0</th>\n",
       "      <td>307607173</td>\n",
       "      <td>42.655703</td>\n",
       "      <td>1467207664</td>\n",
       "      <td>9.631744</td>\n",
       "      <td>2021-01-15</td>\n",
       "      <td>6130588051</td>\n",
       "      <td>0</td>\n",
       "      <td>0</td>\n",
       "      <td>0</td>\n",
       "      <td>0</td>\n",
       "      <td>...</td>\n",
       "      <td>-13680440001</td>\n",
       "      <td>ADBE</td>\n",
       "      <td>488927628</td>\n",
       "      <td>500449721</td>\n",
       "      <td>507436818</td>\n",
       "      <td>505840503</td>\n",
       "      <td>MDUSLTNFEAAN</td>\n",
       "      <td>BDEA</td>\n",
       "      <td>alaunn</td>\n",
       "      <td>1681991188785</td>\n",
       "    </tr>\n",
       "    <tr>\n",
       "      <th>1</th>\n",
       "      <td>213116931</td>\n",
       "      <td>54.803361</td>\n",
       "      <td>1539164618</td>\n",
       "      <td>7.462859</td>\n",
       "      <td>2021-01-04</td>\n",
       "      <td>4323526636</td>\n",
       "      <td>0</td>\n",
       "      <td>0</td>\n",
       "      <td>0</td>\n",
       "      <td>0</td>\n",
       "      <td>...</td>\n",
       "      <td>-10809322748</td>\n",
       "      <td>ADBE</td>\n",
       "      <td>495404409</td>\n",
       "      <td>508474613</td>\n",
       "      <td>502044074</td>\n",
       "      <td>495238504</td>\n",
       "      <td>NUMENTLDAASF</td>\n",
       "      <td>ABED</td>\n",
       "      <td>nualna</td>\n",
       "      <td>1628835952386</td>\n",
       "    </tr>\n",
       "    <tr>\n",
       "      <th>2</th>\n",
       "      <td>195125159</td>\n",
       "      <td>48.986374</td>\n",
       "      <td>1376961114</td>\n",
       "      <td>6.866186</td>\n",
       "      <td>2021-01-16</td>\n",
       "      <td>3248551660</td>\n",
       "      <td>0</td>\n",
       "      <td>0</td>\n",
       "      <td>0</td>\n",
       "      <td>0</td>\n",
       "      <td>...</td>\n",
       "      <td>-8323185982</td>\n",
       "      <td>ADBE</td>\n",
       "      <td>499605480</td>\n",
       "      <td>494189000</td>\n",
       "      <td>514045036</td>\n",
       "      <td>519800535</td>\n",
       "      <td>UNLASEDMNFTA</td>\n",
       "      <td>EABD</td>\n",
       "      <td>luanna</td>\n",
       "      <td>1678085968510</td>\n",
       "    </tr>\n",
       "    <tr>\n",
       "      <th>3</th>\n",
       "      <td>114893587</td>\n",
       "      <td>65.449555</td>\n",
       "      <td>1263375740</td>\n",
       "      <td>6.281497</td>\n",
       "      <td>2021-01-05</td>\n",
       "      <td>6006845212</td>\n",
       "      <td>0</td>\n",
       "      <td>0</td>\n",
       "      <td>0</td>\n",
       "      <td>0</td>\n",
       "      <td>...</td>\n",
       "      <td>-6091316383</td>\n",
       "      <td>ADBE</td>\n",
       "      <td>508964648</td>\n",
       "      <td>505884243</td>\n",
       "      <td>503235073</td>\n",
       "      <td>516756304</td>\n",
       "      <td>LNSUANTEFMDA</td>\n",
       "      <td>DEAB</td>\n",
       "      <td>aunnla</td>\n",
       "      <td>1615782895178</td>\n",
       "    </tr>\n",
       "  </tbody>\n",
       "</table>\n",
       "<p>4 rows × 182 columns</p>\n",
       "</div>"
      ],
      "text/plain": [
       "   accountsPayable  accountsPayableTurnover  accountsReceivable  \\\n",
       "0        307607173                42.655703          1467207664   \n",
       "1        213116931                54.803361          1539164618   \n",
       "2        195125159                48.986374          1376961114   \n",
       "3        114893587                65.449555          1263375740   \n",
       "\n",
       "   accountsReceivableTurnover    asOfDate  assetsCurrentCash  \\\n",
       "0                    9.631744  2021-01-15         6130588051   \n",
       "1                    7.462859  2021-01-04         4323526636   \n",
       "2                    6.866186  2021-01-16         3248551660   \n",
       "3                    6.281497  2021-01-05         6006845212   \n",
       "\n",
       "   assetsCurrentCashRestricted  assetsCurrentDeferredCompensation  \\\n",
       "0                            0                                  0   \n",
       "1                            0                                  0   \n",
       "2                            0                                  0   \n",
       "3                            0                                  0   \n",
       "\n",
       "   assetsCurrentDeferredTax  assetsCurrentDiscontinuedOperations  ...  \\\n",
       "0                         0                                    0  ...   \n",
       "1                         0                                    0  ...   \n",
       "2                         0                                    0  ...   \n",
       "3                         0                                    0  ...   \n",
       "\n",
       "   stockTreasury  symbol      wabso  wabsoSplitAdjusted      wadso  \\\n",
       "0   -13680440001    ADBE  488927628           500449721  507436818   \n",
       "1   -10809322748    ADBE  495404409           508474613  502044074   \n",
       "2    -8323185982    ADBE  499605480           494189000  514045036   \n",
       "3    -6091316383    ADBE  508964648           505884243  503235073   \n",
       "\n",
       "   wadsoSplitAdjusted            id   key  subkey        updated  \n",
       "0           505840503  MDUSLTNFEAAN  BDEA  alaunn  1681991188785  \n",
       "1           495238504  NUMENTLDAASF  ABED  nualna  1628835952386  \n",
       "2           519800535  UNLASEDMNFTA  EABD  luanna  1678085968510  \n",
       "3           516756304  LNSUANTEFMDA  DEAB  aunnla  1615782895178  \n",
       "\n",
       "[4 rows x 182 columns]"
      ]
     },
     "execution_count": 24,
     "metadata": {},
     "output_type": "execute_result"
    }
   ],
   "source": [
    "adbe_adv"
   ]
  },
  {
   "cell_type": "code",
   "execution_count": 25,
   "metadata": {},
   "outputs": [],
   "source": [
    "url_adv_s = f\"https://sandbox.iexapis.com/stable/stock/{symbol}/advanced-stats?token=Tsk_910a8ace8ad14af698bc4a65be1a4219\""
   ]
  },
  {
   "cell_type": "code",
   "execution_count": 26,
   "metadata": {},
   "outputs": [],
   "source": [
    "adbe_adv_s = requests.get(url_adv_s).json()"
   ]
  },
  {
   "cell_type": "code",
   "execution_count": 27,
   "metadata": {},
   "outputs": [],
   "source": [
    "adbe_financ = requests.get(financials_json).json()"
   ]
  },
  {
   "cell_type": "code",
   "execution_count": 28,
   "metadata": {},
   "outputs": [
    {
     "data": {
      "text/plain": [
       "Index(['EBITDA', 'accountsPayable', 'capitalSurplus', 'cashChange', 'cashFlow',\n",
       "       'cashFlowFinancing', 'changesInInventories', 'changesInReceivables',\n",
       "       'commonStock', 'costOfRevenue', 'currency', 'currentAssets',\n",
       "       'currentCash', 'currentDebt', 'currentLongTermDebt', 'depreciation',\n",
       "       'dividendsPaid', 'ebit', 'exchangeRateEffect', 'filingType',\n",
       "       'fiscalDate', 'fiscalQuarter', 'fiscalYear', 'goodwill', 'grossProfit',\n",
       "       'incomeTax', 'intangibleAssets', 'interestIncome', 'inventory',\n",
       "       'investingActivityOther', 'investments', 'longTermDebt',\n",
       "       'longTermInvestments', 'minorityInterest', 'netBorrowings', 'netIncome',\n",
       "       'netIncomeBasic', 'netTangibleAssets', 'operatingExpense',\n",
       "       'operatingIncome', 'operatingRevenue', 'otherAssets',\n",
       "       'otherCurrentAssets', 'otherCurrentLiabilities',\n",
       "       'otherIncomeExpenseNet', 'otherLiabilities', 'pretaxIncome',\n",
       "       'propertyPlantEquipment', 'receivables', 'reportDate',\n",
       "       'researchAndDevelopment', 'retainedEarnings', 'revenue',\n",
       "       'sellingGeneralAndAdmin', 'shareholderEquity', 'shortTermDebt',\n",
       "       'shortTermInvestments', 'symbol', 'totalAssets', 'totalCash',\n",
       "       'totalDebt', 'totalInvestingCashFlows', 'totalLiabilities',\n",
       "       'totalRevenue', 'treasuryStock', 'id', 'key', 'subkey', 'updated'],\n",
       "      dtype='object')"
      ]
     },
     "execution_count": 28,
     "metadata": {},
     "output_type": "execute_result"
    }
   ],
   "source": [
    "df2 = pd.DataFrame(adbe_financ['financials'])\n",
    "df2 = df2.set_index(pd.to_datetime(income['fiscalDate'].apply(lambda x: x[:7])))\n",
    "df2.columns"
   ]
  },
  {
   "cell_type": "code",
   "execution_count": 29,
   "metadata": {},
   "outputs": [],
   "source": [
    "df2['operating_margin'] = df2['operatingIncome'] / df2['revenue']"
   ]
  },
  {
   "cell_type": "code",
   "execution_count": 30,
   "metadata": {},
   "outputs": [],
   "source": [
    "df2['net_margin'] = df2['netIncome'] / df2['revenue']"
   ]
  },
  {
   "cell_type": "code",
   "execution_count": 31,
   "metadata": {},
   "outputs": [],
   "source": [
    "# to check cashflow\n",
    "df2['fcf_margin'] = (df2['cashFlow'] + df['capitalexpenditures'])/df2['revenue']"
   ]
  },
  {
   "cell_type": "code",
   "execution_count": 32,
   "metadata": {},
   "outputs": [],
   "source": [
    "df2['gross_margin'] = df['grossprofit'] / df['totalrevenue']"
   ]
  },
  {
   "cell_type": "code",
   "execution_count": 35,
   "metadata": {},
   "outputs": [],
   "source": [
    "df2['roa'] = df2['net_margin']*df2['asset_turnover']"
   ]
  },
  {
   "cell_type": "code",
   "execution_count": 34,
   "metadata": {},
   "outputs": [],
   "source": [
    "df2['asset_turnover'] = df2['revenue'] / df2['totalAssets']"
   ]
  },
  {
   "cell_type": "code",
   "execution_count": 38,
   "metadata": {},
   "outputs": [],
   "source": [
    "df2['roa2'] = df2['netIncome']*4/ df2['totalAssets']"
   ]
  },
  {
   "cell_type": "code",
   "execution_count": 39,
   "metadata": {},
   "outputs": [
    {
     "data": {
      "text/plain": [
       "fiscalDate\n",
       "2020-11-01    0.371602\n",
       "2020-08-01    0.171631\n",
       "2020-05-01    0.200528\n",
       "2020-02-01    0.188246\n",
       "2019-11-01    0.162496\n",
       "2019-08-01    0.156825\n",
       "2019-05-01    0.126457\n",
       "2019-02-01    0.136545\n",
       "2018-11-01    0.145514\n",
       "2018-08-01    0.174865\n",
       "2018-05-01    0.175423\n",
       "2018-02-01    0.154868\n",
       "Name: roa2, dtype: float64"
      ]
     },
     "execution_count": 39,
     "metadata": {},
     "output_type": "execute_result"
    }
   ],
   "source": [
    "df2['roa2']"
   ]
  },
  {
   "cell_type": "code",
   "execution_count": 36,
   "metadata": {},
   "outputs": [
    {
     "data": {
      "text/plain": [
       "fiscalDate\n",
       "2020-11-01    0.092900\n",
       "2020-08-01    0.042908\n",
       "2020-05-01    0.050132\n",
       "2020-02-01    0.047062\n",
       "2019-11-01    0.040624\n",
       "2019-08-01    0.039206\n",
       "2019-05-01    0.031614\n",
       "2019-02-01    0.034136\n",
       "2018-11-01    0.036378\n",
       "2018-08-01    0.043716\n",
       "2018-05-01    0.043856\n",
       "2018-02-01    0.038717\n",
       "Name: roa, dtype: float64"
      ]
     },
     "execution_count": 36,
     "metadata": {},
     "output_type": "execute_result"
    }
   ],
   "source": [
    "df2['roa']"
   ]
  },
  {
   "cell_type": "code",
   "execution_count": 41,
   "metadata": {},
   "outputs": [
    {
     "data": {
      "text/plain": [
       "fiscalDate\n",
       "2020-11-01    13394789540\n",
       "2020-08-01    12109048882\n",
       "2020-05-01    11304485286\n",
       "2020-02-01    10691072029\n",
       "2019-11-01    10631819329\n",
       "2019-08-01    10685686032\n",
       "2019-05-01    10410669560\n",
       "2019-02-01     9926305441\n",
       "2018-11-01     9503172309\n",
       "2018-08-01     9209416777\n",
       "2018-05-01     8851040588\n",
       "2018-02-01     8842211862\n",
       "Name: shareholderEquity, dtype: int64"
      ]
     },
     "execution_count": 41,
     "metadata": {},
     "output_type": "execute_result"
    }
   ],
   "source": [
    "df2['shareholderEquity']\n"
   ]
  },
  {
   "cell_type": "code",
   "execution_count": 49,
   "metadata": {},
   "outputs": [
    {
     "name": "stdout",
     "output_type": "stream",
     "text": [
      "ebit\n",
      "netincomebasic\n",
      "currentlongtermdebt\n",
      "longtermdebt\n",
      "debt_to_equity\n"
     ]
    }
   ],
   "source": [
    "for i in df.columns:\n",
    "    if 'eb' in i:\n",
    "        print(i)"
   ]
  },
  {
   "cell_type": "code",
   "execution_count": 43,
   "metadata": {},
   "outputs": [
    {
     "data": {
      "text/plain": [
       "Index(['EBITDA', 'accountsPayable', 'capitalSurplus', 'cashChange', 'cashFlow',\n",
       "       'cashFlowFinancing', 'changesInInventories', 'changesInReceivables',\n",
       "       'commonStock', 'costOfRevenue', 'currency', 'currentAssets',\n",
       "       'currentCash', 'currentDebt', 'currentLongTermDebt', 'depreciation',\n",
       "       'dividendsPaid', 'ebit', 'exchangeRateEffect', 'filingType',\n",
       "       'fiscalDate', 'fiscalQuarter', 'fiscalYear', 'goodwill', 'grossProfit',\n",
       "       'incomeTax', 'intangibleAssets', 'interestIncome', 'inventory',\n",
       "       'investingActivityOther', 'investments', 'longTermDebt',\n",
       "       'longTermInvestments', 'minorityInterest', 'netBorrowings', 'netIncome',\n",
       "       'netIncomeBasic', 'netTangibleAssets', 'operatingExpense',\n",
       "       'operatingIncome', 'operatingRevenue', 'otherAssets',\n",
       "       'otherCurrentAssets', 'otherCurrentLiabilities',\n",
       "       'otherIncomeExpenseNet', 'otherLiabilities', 'pretaxIncome',\n",
       "       'propertyPlantEquipment', 'receivables', 'reportDate',\n",
       "       'researchAndDevelopment', 'retainedEarnings', 'revenue',\n",
       "       'sellingGeneralAndAdmin', 'shareholderEquity', 'shortTermDebt',\n",
       "       'shortTermInvestments', 'symbol', 'totalAssets', 'totalCash',\n",
       "       'totalDebt', 'totalInvestingCashFlows', 'totalLiabilities',\n",
       "       'totalRevenue', 'treasuryStock', 'id', 'key', 'subkey', 'updated',\n",
       "       'operating_margin', 'net_margin', 'fcf_margin', 'gross_margin',\n",
       "       'asset_turnover', 'roa', 'roa2'],\n",
       "      dtype='object')"
      ]
     },
     "execution_count": 43,
     "metadata": {},
     "output_type": "execute_result"
    }
   ],
   "source": [
    "df2.columns"
   ]
  },
  {
   "cell_type": "code",
   "execution_count": 46,
   "metadata": {},
   "outputs": [
    {
     "data": {
      "text/plain": [
       "fiscalDate\n",
       "2020-11-01    4228277617\n",
       "2020-08-01    4278214251\n",
       "2020-05-01    4181773561\n",
       "2020-02-01    4116441571\n",
       "2019-11-01    4314586902\n",
       "2019-08-01    4188426186\n",
       "2019-05-01    4300986509\n",
       "2019-02-01    4194630093\n",
       "2018-11-01    4201899168\n",
       "2018-08-01    1895973446\n",
       "2018-05-01    1961342042\n",
       "2018-02-01    1934380945\n",
       "Name: totalDebt, dtype: int64"
      ]
     },
     "execution_count": 46,
     "metadata": {},
     "output_type": "execute_result"
    }
   ],
   "source": [
    "df2['totalDebt']"
   ]
  },
  {
   "cell_type": "code",
   "execution_count": 53,
   "metadata": {},
   "outputs": [],
   "source": [
    "stats = f\"https://sandbox.iexapis.com/stable/stock/{symbol}/stats?token={token}\"\n",
    "stats = requests.get(stats).json()"
   ]
  },
  {
   "cell_type": "code",
   "execution_count": 54,
   "metadata": {},
   "outputs": [
    {
     "data": {
      "text/plain": [
       "{'companyName': 'Adobe Inc',\n",
       " 'marketcap': 224651357654,\n",
       " 'week52high': 548.6,\n",
       " 'week52low': 297,\n",
       " 'week52change': 0.32108846868513014,\n",
       " 'sharesOutstanding': 482000509,\n",
       " 'float': 0,\n",
       " 'avg10Volume': 3043332,\n",
       " 'avg30Volume': 3114066,\n",
       " 'day200MovingAvg': 496.19,\n",
       " 'day50MovingAvg': 489.19,\n",
       " 'employees': 0,\n",
       " 'ttmEPS': 11.27,\n",
       " 'ttmDividendRate': 0,\n",
       " 'dividendYield': 0,\n",
       " 'nextDividendDate': '0',\n",
       " 'exDividendDate': '0',\n",
       " 'nextEarningsDate': '0',\n",
       " 'peRatio': 42.174471565229716,\n",
       " 'beta': 1.1450238559620052,\n",
       " 'maxChangePercent': 10.265524085532302,\n",
       " 'year5ChangePercent': 4.322443922106131,\n",
       " 'year2ChangePercent': 0.8728570942862748,\n",
       " 'year1ChangePercent': 0.31976415106979145,\n",
       " 'ytdChangePercent': -0.082733940978197,\n",
       " 'month6ChangePercent': 0.03258476132389889,\n",
       " 'month3ChangePercent': 0.026969699524550854,\n",
       " 'month1ChangePercent': -0.08639988566142091,\n",
       " 'day30ChangePercent': -0.08294205652923639,\n",
       " 'day5ChangePercent': -0.03033756362195382}"
      ]
     },
     "execution_count": 54,
     "metadata": {},
     "output_type": "execute_result"
    }
   ],
   "source": [
    "stats"
   ]
  },
  {
   "cell_type": "code",
   "execution_count": 55,
   "metadata": {},
   "outputs": [
    {
     "ename": "NameError",
     "evalue": "name 'financials' is not defined",
     "output_type": "error",
     "traceback": [
      "\u001b[0;31m---------------------------------------------------------------------------\u001b[0m",
      "\u001b[0;31mNameError\u001b[0m                                 Traceback (most recent call last)",
      "\u001b[0;32m<ipython-input-55-4a425e32ba8b>\u001b[0m in \u001b[0;36m<module>\u001b[0;34m\u001b[0m\n\u001b[1;32m      1\u001b[0m \u001b[0;31m# Financial strength\u001b[0m\u001b[0;34m\u001b[0m\u001b[0;34m\u001b[0m\u001b[0;34m\u001b[0m\u001b[0m\n\u001b[1;32m      2\u001b[0m \u001b[0mfinancial_strength\u001b[0m \u001b[0;34m=\u001b[0m \u001b[0mpd\u001b[0m\u001b[0;34m.\u001b[0m\u001b[0mDataFrame\u001b[0m\u001b[0;34m(\u001b[0m\u001b[0;34m)\u001b[0m\u001b[0;34m\u001b[0m\u001b[0;34m\u001b[0m\u001b[0m\n\u001b[0;32m----> 3\u001b[0;31m \u001b[0mfinancial_strength\u001b[0m\u001b[0;34m[\u001b[0m\u001b[0;34m'cash_debt'\u001b[0m\u001b[0;34m]\u001b[0m \u001b[0;34m=\u001b[0m \u001b[0mfinancials\u001b[0m\u001b[0;34m[\u001b[0m\u001b[0;34m'totalcash'\u001b[0m\u001b[0;34m]\u001b[0m \u001b[0;34m/\u001b[0m \u001b[0mfinancials\u001b[0m\u001b[0;34m[\u001b[0m\u001b[0;34m'totaldebt'\u001b[0m\u001b[0;34m]\u001b[0m\u001b[0;34m\u001b[0m\u001b[0;34m\u001b[0m\u001b[0m\n\u001b[0m\u001b[1;32m      4\u001b[0m \u001b[0mfinancial_strength\u001b[0m\u001b[0;34m[\u001b[0m\u001b[0;34m'equity_asset'\u001b[0m\u001b[0;34m]\u001b[0m \u001b[0;34m=\u001b[0m \u001b[0mfinancials\u001b[0m\u001b[0;34m[\u001b[0m\u001b[0;34m'shareholderequity'\u001b[0m\u001b[0;34m]\u001b[0m \u001b[0;34m/\u001b[0m \u001b[0mfinancials\u001b[0m\u001b[0;34m[\u001b[0m\u001b[0;34m'totalassets'\u001b[0m\u001b[0;34m]\u001b[0m\u001b[0;34m\u001b[0m\u001b[0;34m\u001b[0m\u001b[0m\n\u001b[1;32m      5\u001b[0m \u001b[0mfinancial_strength\u001b[0m\u001b[0;34m[\u001b[0m\u001b[0;34m'debt_equity'\u001b[0m\u001b[0;34m]\u001b[0m \u001b[0;34m=\u001b[0m \u001b[0mfinancials\u001b[0m\u001b[0;34m[\u001b[0m\u001b[0;34m'totaldebt'\u001b[0m\u001b[0;34m]\u001b[0m \u001b[0;34m/\u001b[0m \u001b[0mfinancials\u001b[0m\u001b[0;34m[\u001b[0m\u001b[0;34m'shareholderequity'\u001b[0m\u001b[0;34m]\u001b[0m\u001b[0;34m\u001b[0m\u001b[0;34m\u001b[0m\u001b[0m\n",
      "\u001b[0;31mNameError\u001b[0m: name 'financials' is not defined"
     ]
    }
   ],
   "source": [
    "# Financial strength\n",
    "financial_strength = pd.DataFrame()\n",
    "financial_strength['cash_debt'] = financials['totalcash'] / financials['totaldebt']\n",
    "financial_strength['equity_asset'] = financials['shareholderequity'] / financials['totalassets']\n",
    "financial_strength['debt_equity'] = financials['totaldebt'] / financials['shareholderequity']\n",
    "financial_strength['debt_ebitda'] = financials['totaldebt'] / (financials['ebitda']*4)"
   ]
  },
  {
   "cell_type": "code",
   "execution_count": 56,
   "metadata": {},
   "outputs": [
    {
     "ename": "NameError",
     "evalue": "name 'financials' is not defined",
     "output_type": "error",
     "traceback": [
      "\u001b[0;31m---------------------------------------------------------------------------\u001b[0m",
      "\u001b[0;31mNameError\u001b[0m                                 Traceback (most recent call last)",
      "\u001b[0;32m<ipython-input-56-2f96076c625b>\u001b[0m in \u001b[0;36m<module>\u001b[0;34m\u001b[0m\n\u001b[1;32m      1\u001b[0m \u001b[0;31m# Profitability\u001b[0m\u001b[0;34m\u001b[0m\u001b[0;34m\u001b[0m\u001b[0;34m\u001b[0m\u001b[0m\n\u001b[1;32m      2\u001b[0m \u001b[0mprofitability\u001b[0m \u001b[0;34m=\u001b[0m \u001b[0mpd\u001b[0m\u001b[0;34m.\u001b[0m\u001b[0mDataFrame\u001b[0m\u001b[0;34m(\u001b[0m\u001b[0;34m)\u001b[0m\u001b[0;34m\u001b[0m\u001b[0;34m\u001b[0m\u001b[0m\n\u001b[0;32m----> 3\u001b[0;31m \u001b[0mprofitability\u001b[0m\u001b[0;34m[\u001b[0m\u001b[0;34m'operating_margin'\u001b[0m\u001b[0;34m]\u001b[0m \u001b[0;34m=\u001b[0m \u001b[0mfinancials\u001b[0m\u001b[0;34m[\u001b[0m\u001b[0;34m'operatingincome'\u001b[0m\u001b[0;34m]\u001b[0m \u001b[0;34m/\u001b[0m \u001b[0mfinancials\u001b[0m\u001b[0;34m[\u001b[0m\u001b[0;34m'revenue'\u001b[0m\u001b[0;34m]\u001b[0m\u001b[0;34m\u001b[0m\u001b[0;34m\u001b[0m\u001b[0m\n\u001b[0m\u001b[1;32m      4\u001b[0m \u001b[0mprofitability\u001b[0m\u001b[0;34m[\u001b[0m\u001b[0;34m'net_margin'\u001b[0m\u001b[0;34m]\u001b[0m \u001b[0;34m=\u001b[0m \u001b[0mfinancials\u001b[0m\u001b[0;34m[\u001b[0m\u001b[0;34m'netincome'\u001b[0m\u001b[0;34m]\u001b[0m \u001b[0;34m/\u001b[0m \u001b[0mfinancials\u001b[0m\u001b[0;34m[\u001b[0m\u001b[0;34m'revenue'\u001b[0m\u001b[0;34m]\u001b[0m\u001b[0;34m\u001b[0m\u001b[0;34m\u001b[0m\u001b[0m\n\u001b[1;32m      5\u001b[0m \u001b[0mprofitability\u001b[0m\u001b[0;34m[\u001b[0m\u001b[0;34m'asset_turnover'\u001b[0m\u001b[0;34m]\u001b[0m \u001b[0;34m=\u001b[0m \u001b[0mfinancials\u001b[0m\u001b[0;34m[\u001b[0m\u001b[0;34m'revenue'\u001b[0m\u001b[0;34m]\u001b[0m \u001b[0;34m/\u001b[0m \u001b[0mfinancials\u001b[0m\u001b[0;34m[\u001b[0m\u001b[0;34m'totalassets'\u001b[0m\u001b[0;34m]\u001b[0m\u001b[0;34m\u001b[0m\u001b[0;34m\u001b[0m\u001b[0m\n",
      "\u001b[0;31mNameError\u001b[0m: name 'financials' is not defined"
     ]
    }
   ],
   "source": [
    "# Profitability\n",
    "profitability = pd.DataFrame()\n",
    "profitability['operating_margin'] = financials['operatingincome'] / financials['revenue']\n",
    "profitability['net_margin'] = financials['netincome'] / financials['revenue']\n",
    "profitability['asset_turnover'] = financials['revenue'] / financials['totalassets']\n",
    "profitability['roa'] = financials['netincome']*4/ financials['totalassets']\n",
    "profitability['equity_multipl'] = financials['totalassets'] / financials['shareholderequity']\n",
    "profitability['roe'] = financials['netincome'] / financials['shareholderequity']\n",
    "#profitability['gross_margin'] = income['grossprofit'] / income['totalrevenue']"
   ]
  },
  {
   "cell_type": "code",
   "execution_count": null,
   "metadata": {},
   "outputs": [],
   "source": [
    "#def add_profitability(df):\n",
    "    #df['operating_margin'] = df['operatingincome'] / df['revenue']\n",
    "    #df['net_margin'] = df['netincome'] / df['revenue']\n",
    "    #if df['time'] == 'y':\n",
    "        #df['asset_turnover'] = df['revenue'] / collection_y['totalassets'].rolling(2).mean()"
   ]
  }
 ],
 "metadata": {
  "kernelspec": {
   "display_name": "Python 3",
   "language": "python",
   "name": "python3"
  },
  "language_info": {
   "codemirror_mode": {
    "name": "ipython",
    "version": 3
   },
   "file_extension": ".py",
   "mimetype": "text/x-python",
   "name": "python",
   "nbconvert_exporter": "python",
   "pygments_lexer": "ipython3",
   "version": "3.7.7"
  },
  "varInspector": {
   "cols": {
    "lenName": 16,
    "lenType": 16,
    "lenVar": 40
   },
   "kernels_config": {
    "python": {
     "delete_cmd_postfix": "",
     "delete_cmd_prefix": "del ",
     "library": "var_list.py",
     "varRefreshCmd": "print(var_dic_list())"
    },
    "r": {
     "delete_cmd_postfix": ") ",
     "delete_cmd_prefix": "rm(",
     "library": "var_list.r",
     "varRefreshCmd": "cat(var_dic_list()) "
    }
   },
   "types_to_exclude": [
    "module",
    "function",
    "builtin_function_or_method",
    "instance",
    "_Feature"
   ],
   "window_display": false
  }
 },
 "nbformat": 4,
 "nbformat_minor": 4
}
