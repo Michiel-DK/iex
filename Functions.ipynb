{
 "cells": [
  {
   "cell_type": "code",
   "execution_count": 17,
   "metadata": {},
   "outputs": [],
   "source": [
    "# Imports\n",
    "from iexfinance.stocks import Stock\n",
    "import requests\n",
    "import urllib.parse\n",
    "import requests\n",
    "import pandas as pd\n",
    "import datetime\n",
    "import matplotlib.pyplot as plt\n",
    "import time\n",
    "import seaborn as sns"
   ]
  },
  {
   "cell_type": "code",
   "execution_count": 63,
   "metadata": {},
   "outputs": [],
   "source": [
    "# params\n",
    "period = 'quarter'\n",
    "time = '24'\n",
    "symbol = [\"ADBE\",\"CRM\"]\n",
    "token = 'Tsk_910a8ace8ad14af698bc4a65be1a4219'\n",
    "portfolio = {}"
   ]
  },
  {
   "cell_type": "code",
   "execution_count": 64,
   "metadata": {},
   "outputs": [],
   "source": [
    "# get df from api\n",
    "\n",
    "def get_df(ls, period, time, token):\n",
    "    for ticker in ls:\n",
    "        financials_url = f\"https://sandbox.iexapis.com/stable/stock/{ticker}/financials?period={period}&last={time}&token={token}\"\n",
    "        financials_json = requests.get(financials_url).json()\n",
    "        portfolio[ticker] = pd.DataFrame(financials_json['financials'])"
   ]
  },
  {
   "cell_type": "code",
   "execution_count": 65,
   "metadata": {},
   "outputs": [],
   "source": [
    "# preprocessing\n",
    "\n",
    "def preprocess(dic):\n",
    "    for v in dic.values():\n",
    "        v.rename(str.lower, axis='columns', inplace=True)\n",
    "        v.set_index(pd.to_datetime(v['fiscaldate'].apply(lambda x: x[:7])), inplace=True)"
   ]
  },
  {
   "cell_type": "code",
   "execution_count": 66,
   "metadata": {},
   "outputs": [],
   "source": [
    "# add columns\n",
    "\n",
    "def add_profitability(dic):\n",
    "    for df in dic.values():\n",
    "        df['operating_margin'] = df['operatingincome'] / df['revenue']\n",
    "        df['net_margin'] = df['netincome'] / df['revenue']\n",
    "        df['asset_turnover'] = df['revenue'] / df['totalassets']\n",
    "        df['roa'] = df['netincome']*4/ df['totalassets']\n",
    "        df['equity_multipl'] = df['totalassets'] / df['shareholderequity']\n",
    "        df['roe'] = df['netincome'] / df['shareholderequity']\n",
    "        #df['fcf_margin'] = df['fcf'] / df['revenue']\n",
    "\n",
    "def add_financial_strength(dic):\n",
    "    for df in dic.values():\n",
    "        df['cash_debt'] = df['totalcash'] / df['totaldebt']\n",
    "        df['equity_asset'] = df['shareholderequity'] / df['totalassets']\n",
    "        df['debt_equity'] = df['totaldebt'] / df['shareholderequity']\n",
    "        df['debt_ebitda'] = df['totaldebt'] / (df['ebitda']*4)"
   ]
  },
  {
   "cell_type": "code",
   "execution_count": null,
   "metadata": {},
   "outputs": [],
   "source": []
  },
  {
   "cell_type": "code",
   "execution_count": null,
   "metadata": {},
   "outputs": [],
   "source": []
  }
 ],
 "metadata": {
  "kernelspec": {
   "display_name": "Python 3",
   "language": "python",
   "name": "python3"
  },
  "language_info": {
   "codemirror_mode": {
    "name": "ipython",
    "version": 3
   },
   "file_extension": ".py",
   "mimetype": "text/x-python",
   "name": "python",
   "nbconvert_exporter": "python",
   "pygments_lexer": "ipython3",
   "version": "3.7.7"
  },
  "varInspector": {
   "cols": {
    "lenName": 16,
    "lenType": 16,
    "lenVar": 40
   },
   "kernels_config": {
    "python": {
     "delete_cmd_postfix": "",
     "delete_cmd_prefix": "del ",
     "library": "var_list.py",
     "varRefreshCmd": "print(var_dic_list())"
    },
    "r": {
     "delete_cmd_postfix": ") ",
     "delete_cmd_prefix": "rm(",
     "library": "var_list.r",
     "varRefreshCmd": "cat(var_dic_list()) "
    }
   },
   "types_to_exclude": [
    "module",
    "function",
    "builtin_function_or_method",
    "instance",
    "_Feature"
   ],
   "window_display": false
  }
 },
 "nbformat": 4,
 "nbformat_minor": 4
}
